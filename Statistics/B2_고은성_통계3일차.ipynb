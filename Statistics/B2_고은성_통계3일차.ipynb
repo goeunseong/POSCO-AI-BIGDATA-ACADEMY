{
 "cells": [
  {
   "cell_type": "code",
   "execution_count": 13,
   "metadata": {},
   "outputs": [],
   "source": [
    "import numpy as np\n",
    "from scipy import stats\n",
    "import scipy.stats\n",
    "import pandas as pd\n",
    "import seaborn as sns\n",
    "import matplotlib\n",
    "import matplotlib.pyplot as plt\n",
    "import statsmodels.api as sm\n",
    "from statsmodels.stats.proportion import proportions_ztest\n",
    "from scipy.stats import shapiro"
   ]
  },
  {
   "cell_type": "markdown",
   "metadata": {},
   "source": [
    "### 실습1. 평균 검정(모집단 표준편차를 모르는 경우)\n",
    "\n",
    "고객서비스센터의 고객만족도 평균은 78.0이다. 개선활동을 완료한 후, 다음과 같은  \n",
    "10개의 고객만족도 데이터를 얻었다. 개선활동이 만족도를 변화시켰는가?(유의수준 = 0.05)"
   ]
  },
  {
   "cell_type": "code",
   "execution_count": 11,
   "metadata": {
    "scrolled": true
   },
   "outputs": [
    {
     "name": "stdout",
     "output_type": "stream",
     "text": [
      "1-Sample t-test\n",
      "t 통계량 : 3.379\n",
      "p-value :0.008\n"
     ]
    }
   ],
   "source": [
    "data = [85.0, 79.0, 79.1, 79.9, 81.6, 78.6, 85.4, 83.4, 78.1, 79.2]\n",
    "\n",
    "# 가설검정\n",
    "귀무가설 : '개선활동은 만족도를 변화시키지 않았다'\n",
    "대립가설 : '개선활동이 만족도를 변화시켰다'\n",
    "\n",
    "# 1-Sample t-test\n",
    "t_result = stats.ttest_1samp(data, 78.0)\n",
    "t, p = t_result.statistic.round(3), t_result.pvalue.round(3)\n",
    "\n",
    "print('1-Sample t-test')\n",
    "print('t 통계량 : {}'.format(t))\n",
    "print('p-value :{}'.format(p))"
   ]
  },
  {
   "cell_type": "markdown",
   "metadata": {},
   "source": [
    "해석 : 검정 결과, t 통계량은 3.379, p-value는 0.008이 나왔습니다.  \n",
    "p-value가 0.05보다 작으므로 검정 결과가 통계적으로 유의하다고 볼 수 있습니다.  \n",
    "따라서, 개선활동은 고객만족도를 변화시켰다고 할 수 있습니다."
   ]
  },
  {
   "cell_type": "markdown",
   "metadata": {},
   "source": [
    "### 실습2. Sample t-test\n",
    "\n",
    "제품을 A 공급자와 B 공급자로부터 제품을 받아 두께를 측정해서 다음의 데이터를 얻었다.  \n",
    "공급자 간에 모평균에 차이가 있다고 할 수 있는가? (유의수준 = 0.05)"
   ]
  },
  {
   "cell_type": "code",
   "execution_count": 28,
   "metadata": {},
   "outputs": [
    {
     "name": "stdout",
     "output_type": "stream",
     "text": [
      "ShapiroResult(statistic=0.8425756096839905, pvalue=0.08004552870988846)\n",
      "ShapiroResult(statistic=0.7734811902046204, pvalue=0.014793740585446358)\n",
      "등분산 검정 \n",
      "검정통계량 : 0.441 \n",
      "pvalue : 0.518\n"
     ]
    }
   ],
   "source": [
    "A_data = [1.883, 1.715, 1.799, 1.768, 1.711, 1.832, 1.427, 1.344]\n",
    "B_data = [1.435, 1.572, 1.486, 1.548, 1.511, 1.457, 1.404, 1.883]\n",
    "\n",
    "귀무가설 : '공급자 간에 모평균에 차이가 없다'\n",
    "대립가설 : '공급자 간에 모평균에 차이가 있다'\n",
    "    \n",
    "print(shapiro(A_data))\n",
    "print(shapiro(B_data))\n",
    "\n",
    "statistic, pvalue = stats.levene(A_data, B_data)\n",
    "\n",
    "print('등분산 검정 \\n검정통계량 : {0:.3f} \\np-value : {1:.3f}'.format(statistic, pvalue))\n",
    "\n",
    "# 등분산 검정 결과, p-value가 0.518로 유의수준 0.05보다 크므로 등분산성을 충족한다고 볼 수 있다."
   ]
  },
  {
   "cell_type": "code",
   "execution_count": 29,
   "metadata": {},
   "outputs": [
    {
     "name": "stdout",
     "output_type": "stream",
     "text": [
      "2-Sample t-test\n",
      "t : 1.7\n",
      "p : 0.111\n"
     ]
    }
   ],
   "source": [
    "# 2-Sample t-test\n",
    "t_result = stats.ttest_ind(A_data, B_data)\n",
    "\n",
    "# 2-Sample t-test\n",
    "t, p = t_result.statistic.round(3), t_result.pvalue.round(3)\n",
    "\n",
    "print(\"2-Sample t-test\")\n",
    "print(\"t : {}\".format(t))\n",
    "print(\"p : {}\".format(p))"
   ]
  },
  {
   "cell_type": "markdown",
   "metadata": {},
   "source": [
    "해석 : 2 Sample t-test 결과, 검정통계량은 1.7, p-value은 0.111이 나왔습니다.  \n",
    "p-value가 0.05보다 크므로, 검정 결과는 통계적으로 유의하지 않다고 볼 수 있습니다.  \n",
    "따라서, A,B 두 공급자 간 제품의 모평균에 차이가 없다고 할 수 있습니다."
   ]
  },
  {
   "cell_type": "markdown",
   "metadata": {},
   "source": [
    "### 실습3. Paired t-test\n",
    "\n",
    " 회사원 10명에 대해 영어점수가 학원가기 전의 점수와 학원수강 후에 영어점수가 짝을 이루고 있다.  \n",
    " 회사원들의 성적은 학원가기 전후에 대해 차이가 있는지 검정하라."
   ]
  },
  {
   "cell_type": "code",
   "execution_count": 30,
   "metadata": {},
   "outputs": [
    {
     "name": "stdout",
     "output_type": "stream",
     "text": [
      "Paired t-test\n",
      "t : -2.266\n",
      "p : 0.05\n"
     ]
    }
   ],
   "source": [
    "df1 = [720, 589, 780, 648, 720, 589, 780, 648, 780, 648]\n",
    "df2 = [710, 580, 787, 712, 750, 600, 782, 670, 790, 680]\n",
    "\n",
    "귀무가설 : '학원수강 전후의 성적은 차이가 없다'\n",
    "대립가설 : '학원수강 전후의 성적은 차이가 있다'\n",
    "    \n",
    "# Paired t-test\n",
    "t_result = stats.ttest_rel(df1, df2)\n",
    "\n",
    "# Paired t-test의 t값 p값 저장\n",
    "t,p = t_result.statistic.round(3), t_result.pvalue.round(3)\n",
    "\n",
    "print('Paired t-test')\n",
    "print('t : {}'.format(t))\n",
    "print('p : {}'.format(p))"
   ]
  },
  {
   "cell_type": "markdown",
   "metadata": {},
   "source": [
    "해석 : 검정 결과, Paired t-test의 검정통계량은 -2.266, p-value는 0.05 입니다.  \n",
    "유의수준 5%에서 p-value가 0.05이므로, 학원수강 전후에 차이가 있다고 할 수 있습니다.  \n",
    "검정통계량이 -2.266이므로, 수강 후 점수가 더 높다고 할 수 있습니다. "
   ]
  },
  {
   "cell_type": "markdown",
   "metadata": {},
   "source": [
    "### 실습4. 1 Proportion test\n",
    "\n",
    "동전이 정상적인가를 검정하기 위해 100번을 던져본 결과, 앞면이 40번 나왔으며  \n",
    "뒷면이 60번 나왔다. 이 동전은 정상인가를 유의수준 0.05로써 검정하라.  \n",
    "정상적인 동전을 던질 때, 앞면이 나올 확률은 50%이다. "
   ]
  },
  {
   "cell_type": "code",
   "execution_count": 75,
   "metadata": {},
   "outputs": [
    {
     "name": "stdout",
     "output_type": "stream",
     "text": [
      "1 Proportion test\n",
      "z : -2.041\n",
      "p : 0.041\n"
     ]
    }
   ],
   "source": [
    "귀무가설 : '해당 동전은 앞면이 나올 확률이 정상적인 동전과 같다'\n",
    "대립가설 : '해당 동전은 앞면이 나올 확률이 정상적인 동전과 다르다'\n",
    "    \n",
    "count = 40\n",
    "n_obs = 100\n",
    "value = 0.5\n",
    "\n",
    "stat, pval = proportions_ztest(count, n_obs, value)\n",
    "\n",
    "print('1 Proportion test')\n",
    "print('z : {0:0.3f}'.format(stat))\n",
    "print('p : {0:0.3f}'.format(pval))"
   ]
  },
  {
   "cell_type": "markdown",
   "metadata": {},
   "source": [
    "해석 : 검정 결과, 검정통계량은 -2.041, p-value는 0.041 입니다.  \n",
    "유의수준 0.05에서 p-value가 0.041이므로, 해당 검정은 통계적으로 유의하다고 볼 수 있다.  \n",
    "즉, 해당 동전은 앞면이 나올 확률이 정상적인 동전과 다르다고 할 수 있다."
   ]
  },
  {
   "cell_type": "markdown",
   "metadata": {},
   "source": [
    "### 실습5 2 Proportion test\n",
    "\n",
    "동일한 제품을 생산하는 두 공장에서 불량률을 측정한 결과 아래와 같다.  \n",
    "두 공정의 불량률이 같다고 할 수 있는가? (유의수준 = 0.05)  "
   ]
  },
  {
   "cell_type": "code",
   "execution_count": 31,
   "metadata": {},
   "outputs": [],
   "source": [
    "# 공장 A\n",
    "N1 = 1200\n",
    "X1 = 14\n",
    "\n",
    "# 공장 B\n",
    "N2 = 1200\n",
    "X2 = 5\n",
    "\n",
    "귀무가설 : '두 공장의 불량률은 같다'\n",
    "대립가설 : '두 공장의 불량률은 같지 않다'"
   ]
  },
  {
   "cell_type": "code",
   "execution_count": 32,
   "metadata": {
    "scrolled": true
   },
   "outputs": [
    {
     "name": "stdout",
     "output_type": "stream",
     "text": [
      "2 Proportion test\n",
      "z : 2.073\n",
      "p : 0.038\n"
     ]
    }
   ],
   "source": [
    "count = ([14, 5])\n",
    "nobs = np.array([1200, 1200])\n",
    "\n",
    "# proportion test\n",
    "stat, pval = proportions_ztest(count, nobs)\n",
    "\n",
    "print(\"2 Proportion test\")\n",
    "print(\"z : {0:0.3f}\".format(stat))\n",
    "print(\"p : {0:0.3f}\".format(pval))"
   ]
  },
  {
   "cell_type": "markdown",
   "metadata": {},
   "source": [
    "해석 : 검정 결과, 2 Proportion test의 검정통계량은 2.073, p-value는 0.038 입니다.  \n",
    "유의수준 5%에서 p-value가 0.038이므로, 통계적으로 유의하다고 볼 수 있습니다.  \n",
    "따라서, A, B 두 공장의 불량률은 같지 않다고 할 수 있습니다.  "
   ]
  },
  {
   "cell_type": "markdown",
   "metadata": {},
   "source": [
    "### 실습5. One way ANOVA\n",
    "\n",
    "철강의 청정도를 높이기 위해 제강공정에서 2차 정련을 실시하는데,  \n",
    "강종별과 type에 따라 2차정련 시간에 차이가 있는지 검정하라(유의수준 = 0.05)"
   ]
  },
  {
   "cell_type": "code",
   "execution_count": 76,
   "metadata": {},
   "outputs": [
    {
     "data": {
      "text/html": [
       "<div>\n",
       "<style scoped>\n",
       "    .dataframe tbody tr th:only-of-type {\n",
       "        vertical-align: middle;\n",
       "    }\n",
       "\n",
       "    .dataframe tbody tr th {\n",
       "        vertical-align: top;\n",
       "    }\n",
       "\n",
       "    .dataframe thead th {\n",
       "        text-align: right;\n",
       "    }\n",
       "</style>\n",
       "<table border=\"1\" class=\"dataframe\">\n",
       "  <thead>\n",
       "    <tr style=\"text-align: right;\">\n",
       "      <th></th>\n",
       "      <th>time</th>\n",
       "      <th>charge</th>\n",
       "      <th>gangjong</th>\n",
       "      <th>type</th>\n",
       "    </tr>\n",
       "  </thead>\n",
       "  <tbody>\n",
       "    <tr>\n",
       "      <th>0</th>\n",
       "      <td>32.2</td>\n",
       "      <td>A</td>\n",
       "      <td>a</td>\n",
       "      <td>a</td>\n",
       "    </tr>\n",
       "    <tr>\n",
       "      <th>1</th>\n",
       "      <td>30.4</td>\n",
       "      <td>B</td>\n",
       "      <td>a</td>\n",
       "      <td>a</td>\n",
       "    </tr>\n",
       "    <tr>\n",
       "      <th>2</th>\n",
       "      <td>33.6</td>\n",
       "      <td>C</td>\n",
       "      <td>a</td>\n",
       "      <td>a</td>\n",
       "    </tr>\n",
       "    <tr>\n",
       "      <th>3</th>\n",
       "      <td>36.4</td>\n",
       "      <td>D</td>\n",
       "      <td>a</td>\n",
       "      <td>a</td>\n",
       "    </tr>\n",
       "    <tr>\n",
       "      <th>4</th>\n",
       "      <td>33.9</td>\n",
       "      <td>E</td>\n",
       "      <td>a</td>\n",
       "      <td>a</td>\n",
       "    </tr>\n",
       "    <tr>\n",
       "      <th>5</th>\n",
       "      <td>34.9</td>\n",
       "      <td>F</td>\n",
       "      <td>a</td>\n",
       "      <td>a</td>\n",
       "    </tr>\n",
       "    <tr>\n",
       "      <th>6</th>\n",
       "      <td>33.1</td>\n",
       "      <td>A</td>\n",
       "      <td>b</td>\n",
       "      <td>a</td>\n",
       "    </tr>\n",
       "    <tr>\n",
       "      <th>7</th>\n",
       "      <td>29.9</td>\n",
       "      <td>B</td>\n",
       "      <td>b</td>\n",
       "      <td>a</td>\n",
       "    </tr>\n",
       "    <tr>\n",
       "      <th>8</th>\n",
       "      <td>31.7</td>\n",
       "      <td>C</td>\n",
       "      <td>b</td>\n",
       "      <td>a</td>\n",
       "    </tr>\n",
       "    <tr>\n",
       "      <th>9</th>\n",
       "      <td>27.5</td>\n",
       "      <td>D</td>\n",
       "      <td>b</td>\n",
       "      <td>a</td>\n",
       "    </tr>\n",
       "    <tr>\n",
       "      <th>10</th>\n",
       "      <td>34.0</td>\n",
       "      <td>E</td>\n",
       "      <td>b</td>\n",
       "      <td>a</td>\n",
       "    </tr>\n",
       "    <tr>\n",
       "      <th>11</th>\n",
       "      <td>30.7</td>\n",
       "      <td>F</td>\n",
       "      <td>b</td>\n",
       "      <td>a</td>\n",
       "    </tr>\n",
       "    <tr>\n",
       "      <th>12</th>\n",
       "      <td>32.6</td>\n",
       "      <td>A</td>\n",
       "      <td>c</td>\n",
       "      <td>b</td>\n",
       "    </tr>\n",
       "    <tr>\n",
       "      <th>13</th>\n",
       "      <td>32.7</td>\n",
       "      <td>B</td>\n",
       "      <td>c</td>\n",
       "      <td>b</td>\n",
       "    </tr>\n",
       "    <tr>\n",
       "      <th>14</th>\n",
       "      <td>29.3</td>\n",
       "      <td>C</td>\n",
       "      <td>c</td>\n",
       "      <td>b</td>\n",
       "    </tr>\n",
       "    <tr>\n",
       "      <th>15</th>\n",
       "      <td>25.9</td>\n",
       "      <td>D</td>\n",
       "      <td>c</td>\n",
       "      <td>b</td>\n",
       "    </tr>\n",
       "    <tr>\n",
       "      <th>16</th>\n",
       "      <td>31.1</td>\n",
       "      <td>E</td>\n",
       "      <td>c</td>\n",
       "      <td>b</td>\n",
       "    </tr>\n",
       "    <tr>\n",
       "      <th>17</th>\n",
       "      <td>23.8</td>\n",
       "      <td>F</td>\n",
       "      <td>c</td>\n",
       "      <td>b</td>\n",
       "    </tr>\n",
       "    <tr>\n",
       "      <th>18</th>\n",
       "      <td>26.7</td>\n",
       "      <td>A</td>\n",
       "      <td>d</td>\n",
       "      <td>b</td>\n",
       "    </tr>\n",
       "    <tr>\n",
       "      <th>19</th>\n",
       "      <td>28.5</td>\n",
       "      <td>B</td>\n",
       "      <td>d</td>\n",
       "      <td>b</td>\n",
       "    </tr>\n",
       "    <tr>\n",
       "      <th>20</th>\n",
       "      <td>30.9</td>\n",
       "      <td>C</td>\n",
       "      <td>d</td>\n",
       "      <td>b</td>\n",
       "    </tr>\n",
       "    <tr>\n",
       "      <th>21</th>\n",
       "      <td>26.2</td>\n",
       "      <td>D</td>\n",
       "      <td>d</td>\n",
       "      <td>b</td>\n",
       "    </tr>\n",
       "    <tr>\n",
       "      <th>22</th>\n",
       "      <td>32.3</td>\n",
       "      <td>E</td>\n",
       "      <td>d</td>\n",
       "      <td>b</td>\n",
       "    </tr>\n",
       "    <tr>\n",
       "      <th>23</th>\n",
       "      <td>23.7</td>\n",
       "      <td>F</td>\n",
       "      <td>d</td>\n",
       "      <td>b</td>\n",
       "    </tr>\n",
       "  </tbody>\n",
       "</table>\n",
       "</div>"
      ],
      "text/plain": [
       "    time charge gangjong type\n",
       "0   32.2      A        a    a\n",
       "1   30.4      B        a    a\n",
       "2   33.6      C        a    a\n",
       "3   36.4      D        a    a\n",
       "4   33.9      E        a    a\n",
       "5   34.9      F        a    a\n",
       "6   33.1      A        b    a\n",
       "7   29.9      B        b    a\n",
       "8   31.7      C        b    a\n",
       "9   27.5      D        b    a\n",
       "10  34.0      E        b    a\n",
       "11  30.7      F        b    a\n",
       "12  32.6      A        c    b\n",
       "13  32.7      B        c    b\n",
       "14  29.3      C        c    b\n",
       "15  25.9      D        c    b\n",
       "16  31.1      E        c    b\n",
       "17  23.8      F        c    b\n",
       "18  26.7      A        d    b\n",
       "19  28.5      B        d    b\n",
       "20  30.9      C        d    b\n",
       "21  26.2      D        d    b\n",
       "22  32.3      E        d    b\n",
       "23  23.7      F        d    b"
      ]
     },
     "execution_count": 76,
     "metadata": {},
     "output_type": "execute_result"
    }
   ],
   "source": [
    "# 데이터 불러오기\n",
    "data = pd.read_csv('ANOVA.csv')\n",
    "\n",
    "data"
   ]
  },
  {
   "cell_type": "code",
   "execution_count": 71,
   "metadata": {},
   "outputs": [
    {
     "name": "stdout",
     "output_type": "stream",
     "text": [
      "b    6\n",
      "c    6\n",
      "d    6\n",
      "a    6\n",
      "Name: gangjong, dtype: int64\n",
      "b    12\n",
      "a    12\n",
      "Name: type, dtype: int64\n"
     ]
    }
   ],
   "source": [
    "# 강종, type 종류 확인\n",
    "print(data['gangjong'].value_counts())\n",
    "print(data['type'].value_counts())"
   ]
  },
  {
   "cell_type": "code",
   "execution_count": 128,
   "metadata": {},
   "outputs": [],
   "source": [
    "# 강종별에 따라 데이터 분류\n",
    "df_aa = data.loc[data['gangjong'] == 'a'][['time']].reset_index(drop=True)\n",
    "df_bb = data.loc[data['gangjong'] == 'b'][['time']].reset_index(drop=True)\n",
    "df_cc = data.loc[data['gangjong'] == 'c'][['time']].reset_index(drop=True)\n",
    "df_dd = data.loc[data['gangjong'] == 'd'][['time']].reset_index(drop=True)\n",
    "\n",
    "# type에 따라 분류\n",
    "df_a = data.loc[data['type'] == 'a'][['time']].reset_index(drop=True)\n",
    "df_b = data.loc[data['type'] == 'b'][['time']].reset_index(drop=True)"
   ]
  },
  {
   "cell_type": "code",
   "execution_count": 134,
   "metadata": {},
   "outputs": [],
   "source": [
    "df1 = pd.concat([df_aa, df_bb, df_cc, df_dd], axis=1)\n",
    "df2 = pd.concat([df_a, df_b], axis=1)"
   ]
  },
  {
   "cell_type": "code",
   "execution_count": 139,
   "metadata": {},
   "outputs": [
    {
     "data": {
      "text/plain": [
       "{'whiskers': [<matplotlib.lines.Line2D at 0x2ad05203670>,\n",
       "  <matplotlib.lines.Line2D at 0x2ad052039d0>,\n",
       "  <matplotlib.lines.Line2D at 0x2ad0520ce50>,\n",
       "  <matplotlib.lines.Line2D at 0x2ad052181f0>],\n",
       " 'caps': [<matplotlib.lines.Line2D at 0x2ad05203d30>,\n",
       "  <matplotlib.lines.Line2D at 0x2ad0520c0d0>,\n",
       "  <matplotlib.lines.Line2D at 0x2ad05218550>,\n",
       "  <matplotlib.lines.Line2D at 0x2ad052188b0>],\n",
       " 'boxes': [<matplotlib.lines.Line2D at 0x2ad05203310>,\n",
       "  <matplotlib.lines.Line2D at 0x2ad0520caf0>],\n",
       " 'medians': [<matplotlib.lines.Line2D at 0x2ad0520c430>,\n",
       "  <matplotlib.lines.Line2D at 0x2ad05218c10>],\n",
       " 'fliers': [<matplotlib.lines.Line2D at 0x2ad0520c790>,\n",
       "  <matplotlib.lines.Line2D at 0x2ad05218f70>],\n",
       " 'means': []}"
      ]
     },
     "execution_count": 139,
     "metadata": {},
     "output_type": "execute_result"
    },
    {
     "data": {
      "image/png": "[encoded data removed]",
      "text/plain": [
       "<Figure size 432x288 with 2 Axes>"
      ]
     },
     "metadata": {
      "needs_background": "light"
     },
     "output_type": "display_data"
    }
   ],
   "source": [
    "figure, ax = plt.subplots(ncols=2)\n",
    "plt.subplot(ax[0])\n",
    "plt.boxplot(df1)\n",
    "plt.subplot(ax[1])\n",
    "plt.boxplot(df2)"
   ]
  },
  {
   "cell_type": "code",
   "execution_count": 73,
   "metadata": {},
   "outputs": [
    {
     "name": "stdout",
     "output_type": "stream",
     "text": [
      "One-way\n",
      "F 통계량 : [4.172]\n",
      "p-value : [0.019]\n"
     ]
    }
   ],
   "source": [
    "# 강종에 따른 분산분석\n",
    "\n",
    "f_result = stats.f_oneway(df_aa, df_bb, df_cc, df_dd)\n",
    "\n",
    "f, p = f_result.statistic.round(3), f_result.pvalue.round(3)\n",
    "\n",
    "print(\"One-way\")\n",
    "print('F 통계량 : {}'.format(f))\n",
    "print('p-value : {}'.format(p))"
   ]
  },
  {
   "cell_type": "code",
   "execution_count": 74,
   "metadata": {},
   "outputs": [
    {
     "name": "stdout",
     "output_type": "stream",
     "text": [
      "One-way\n",
      "F 통계량 : [9.654]\n",
      "p-value : [0.005]\n"
     ]
    }
   ],
   "source": [
    "# type에 따른 분산분석\n",
    "\n",
    "f_result = stats.f_oneway(df_a, df_b)\n",
    "\n",
    "f, p = f_result.statistic.round(3), f_result.pvalue.round(3)\n",
    "\n",
    "print(\"One-way\")\n",
    "print('F 통계량 : {}'.format(f))\n",
    "print('p-value : {}'.format(p))"
   ]
  },
  {
   "cell_type": "markdown",
   "metadata": {},
   "source": [
    "해석 : 먼저 강종에 따른 ANOVA 결과, F 통계량은 4.172, p-value는 0.019로 유의수준 0.05에서  \n",
    "통계적으로 유의미함을 알 수 있습니다.  \n",
    "type별 ANOVA 결과 또한 F 통계량은 9.654, p-value는 0.005로 통계적으로 유의미하다고 볼 수 있습니다.  \n",
    "즉, 강종별과 type에 따라 2차정련 시간에 차이가 있다고 할 수 있습니다. "
   ]
  },
  {
   "cell_type": "markdown",
   "metadata": {},
   "source": [
    "### 실습7. 단순선형회귀\n",
    "\n",
    "초코칩의 강도와 굽는 시간과의 인과관계를 분석하기 위한 회귀분석 실시와 회귀식 도출"
   ]
  },
  {
   "cell_type": "code",
   "execution_count": 112,
   "metadata": {},
   "outputs": [
    {
     "data": {
      "text/html": [
       "<div>\n",
       "<style scoped>\n",
       "    .dataframe tbody tr th:only-of-type {\n",
       "        vertical-align: middle;\n",
       "    }\n",
       "\n",
       "    .dataframe tbody tr th {\n",
       "        vertical-align: top;\n",
       "    }\n",
       "\n",
       "    .dataframe thead th {\n",
       "        text-align: right;\n",
       "    }\n",
       "</style>\n",
       "<table border=\"1\" class=\"dataframe\">\n",
       "  <thead>\n",
       "    <tr style=\"text-align: right;\">\n",
       "      <th></th>\n",
       "      <th>Strength</th>\n",
       "      <th>Baking_time</th>\n",
       "    </tr>\n",
       "  </thead>\n",
       "  <tbody>\n",
       "    <tr>\n",
       "      <th>count</th>\n",
       "      <td>20.000000</td>\n",
       "      <td>20.000000</td>\n",
       "    </tr>\n",
       "    <tr>\n",
       "      <th>mean</th>\n",
       "      <td>36.965000</td>\n",
       "      <td>0.776221</td>\n",
       "    </tr>\n",
       "    <tr>\n",
       "      <th>std</th>\n",
       "      <td>1.565172</td>\n",
       "      <td>0.040759</td>\n",
       "    </tr>\n",
       "    <tr>\n",
       "      <th>min</th>\n",
       "      <td>33.000000</td>\n",
       "      <td>0.695121</td>\n",
       "    </tr>\n",
       "    <tr>\n",
       "      <th>25%</th>\n",
       "      <td>36.375000</td>\n",
       "      <td>0.741917</td>\n",
       "    </tr>\n",
       "    <tr>\n",
       "      <th>50%</th>\n",
       "      <td>37.150000</td>\n",
       "      <td>0.762333</td>\n",
       "    </tr>\n",
       "    <tr>\n",
       "      <th>75%</th>\n",
       "      <td>37.725000</td>\n",
       "      <td>0.810775</td>\n",
       "    </tr>\n",
       "    <tr>\n",
       "      <th>max</th>\n",
       "      <td>39.000000</td>\n",
       "      <td>0.849020</td>\n",
       "    </tr>\n",
       "  </tbody>\n",
       "</table>\n",
       "</div>"
      ],
      "text/plain": [
       "        Strength  Baking_time\n",
       "count  20.000000    20.000000\n",
       "mean   36.965000     0.776221\n",
       "std     1.565172     0.040759\n",
       "min    33.000000     0.695121\n",
       "25%    36.375000     0.741917\n",
       "50%    37.150000     0.762333\n",
       "75%    37.725000     0.810775\n",
       "max    39.000000     0.849020"
      ]
     },
     "execution_count": 112,
     "metadata": {},
     "output_type": "execute_result"
    }
   ],
   "source": [
    "# 회귀분석 패키지\n",
    "from statsmodels.formula.api import ols\n",
    "# 상수항 추가\n",
    "from statsmodels.api import qqplot, add_constant\n",
    "# 선형 모델\n",
    "import statsmodels.formula.api as smf\n",
    "\n",
    "matplotlib.rcParams['axes.unicode_minus'] = False # 마이너스 부호 사용\n",
    "plt.rc('font', size=15) # 그래프 크기 조정\n",
    "matplotlib.rc('font', family = 'Malgun Gothic') # 폰트 조정\n",
    " \n",
    "# df = pd.DataFrame({'Strength' : [37.6, 38.6, 37.2, 36.4, 38.6, 39, 37.2, 36.1, 35.9, 37.1, 36.9, 37.5,\n",
    "#                                 36.3, 38.1, 39, 36.9, 36.8, 37.6, 33, 33.5], \n",
    "#                    'Baking_time' : [0.798922, 0.84902, 0.816163, 0.758266, 0.815894, 0.807477, 0.809068, \n",
    "#                                     0.7664, 0.742243, 0.751118, 0.740629, 0.751495, 0.738863, 0.827428, \n",
    "#                                     0.818172, 0.740939, 0.757128, 0.804695, 0.695121, 0.735377]})\n",
    "\n",
    "df_raw = pd.DataFrame({'Strength':[37.6, 38.6, 37.2, 36.4, 38.6, 39, 37.2, 36.1, 35.9, 37.1, 36.9, 37.5, 36.3, 38.1, 39, 36.9, 36.8, 37.6, 33, 33.5], 'Bakingtime':[0.798922, 0.84902, 0.816163, 0.758266, 0.815894, 0.807477, 0.809068, 0.7664, 0.742243, 0.751118, 0.740629, 0.751495, 0.738863, 0.827428, 0.818172, 0.740939, 0.757128, 0.804695, 0.695121, 0.735377]})\n",
    "df.describe()"
   ]
  },
  {
   "cell_type": "code",
   "execution_count": 113,
   "metadata": {},
   "outputs": [
    {
     "data": {
      "text/plain": [
       "<AxesSubplot:xlabel='Baking_time', ylabel='Strength'>"
      ]
     },
     "execution_count": 113,
     "metadata": {},
     "output_type": "execute_result"
    },
    {
     "data": {
      "image/png": "[encoded data removed]",
      "text/plain": [
       "<Figure size 432x288 with 1 Axes>"
      ]
     },
     "metadata": {
      "needs_background": "light"
     },
     "output_type": "display_data"
    }
   ],
   "source": [
    "df.plot.scatter(x='Baking_time', y='Strength')\n",
    "\n",
    "# 대체로 굽는 시간이 증가할수록, 강도도 증가하는 경향을 보임."
   ]
  },
  {
   "cell_type": "code",
   "execution_count": 114,
   "metadata": {},
   "outputs": [
    {
     "data": {
      "text/html": [
       "<div>\n",
       "<style scoped>\n",
       "    .dataframe tbody tr th:only-of-type {\n",
       "        vertical-align: middle;\n",
       "    }\n",
       "\n",
       "    .dataframe tbody tr th {\n",
       "        vertical-align: top;\n",
       "    }\n",
       "\n",
       "    .dataframe thead th {\n",
       "        text-align: right;\n",
       "    }\n",
       "</style>\n",
       "<table border=\"1\" class=\"dataframe\">\n",
       "  <thead>\n",
       "    <tr style=\"text-align: right;\">\n",
       "      <th></th>\n",
       "      <th>Strength</th>\n",
       "      <th>Baking_time</th>\n",
       "    </tr>\n",
       "  </thead>\n",
       "  <tbody>\n",
       "    <tr>\n",
       "      <th>Strength</th>\n",
       "      <td>1.000</td>\n",
       "      <td>0.804</td>\n",
       "    </tr>\n",
       "    <tr>\n",
       "      <th>Baking_time</th>\n",
       "      <td>0.804</td>\n",
       "      <td>1.000</td>\n",
       "    </tr>\n",
       "  </tbody>\n",
       "</table>\n",
       "</div>"
      ],
      "text/plain": [
       "             Strength  Baking_time\n",
       "Strength        1.000        0.804\n",
       "Baking_time     0.804        1.000"
      ]
     },
     "execution_count": 114,
     "metadata": {},
     "output_type": "execute_result"
    }
   ],
   "source": [
    "df.corr(method='pearson').round(3)\n",
    "\n",
    "# 초코칩과 굽는 시간의 상관계수는 0.804로 높은 상관관계를 갖는다고 할 수 있음"
   ]
  },
  {
   "cell_type": "code",
   "execution_count": 116,
   "metadata": {},
   "outputs": [
    {
     "name": "stdout",
     "output_type": "stream",
     "text": [
      "                            OLS Regression Results                            \n",
      "==============================================================================\n",
      "Dep. Variable:            Baking_time   R-squared:                       0.646\n",
      "Model:                            OLS   Adj. R-squared:                  0.627\n",
      "Method:                 Least Squares   F-statistic:                     32.90\n",
      "Date:                Wed, 11 Aug 2021   Prob (F-statistic):           1.95e-05\n",
      "Time:                        23:24:27   Log-Likelihood:                 46.530\n",
      "No. Observations:                  20   AIC:                            -89.06\n",
      "Df Residuals:                      18   BIC:                            -87.07\n",
      "Df Model:                           1                                         \n",
      "Covariance Type:            nonrobust                                         \n",
      "==============================================================================\n",
      "                 coef    std err          t      P>|t|      [0.025      0.975]\n",
      "------------------------------------------------------------------------------\n",
      "Intercept      0.0023      0.135      0.017      0.987      -0.281       0.286\n",
      "Strength       0.0209      0.004      5.736      0.000       0.013       0.029\n",
      "==============================================================================\n",
      "Omnibus:                        2.651   Durbin-Watson:                   1.128\n",
      "Prob(Omnibus):                  0.266   Jarque-Bera (JB):                1.168\n",
      "Skew:                           0.047   Prob(JB):                        0.558\n",
      "Kurtosis:                       1.820   Cond. No.                         898.\n",
      "==============================================================================\n",
      "\n",
      "Notes:\n",
      "[1] Standard Errors assume that the covariance matrix of the errors is correctly specified.\n"
     ]
    }
   ],
   "source": [
    "reg_model = smf.ols(formula = 'Baking_time ~ Strength', data = df)\n",
    "reg_result = reg_model.fit()\n",
    "print(reg_result.summary())"
   ]
  },
  {
   "cell_type": "code",
   "execution_count": 105,
   "metadata": {},
   "outputs": [
    {
     "data": {
      "text/plain": [
       "<matplotlib.lines.Line2D at 0x2ad04d0ae20>"
      ]
     },
     "execution_count": 105,
     "metadata": {},
     "output_type": "execute_result"
    },
    {
     "data": {
      "image/png": "[encoded data removed]",
      "text/plain": [
       "<Figure size 432x288 with 1 Axes>"
      ]
     },
     "metadata": {
      "needs_background": "light"
     },
     "output_type": "display_data"
    }
   ],
   "source": [
    "plt.scatter(reg_result.fittedvalues, reg_result.resid)\n",
    "plt.xlabel('fitted value'); plt.ylabel('residual')\n",
    "plt.axhline(y = 0, linestyle = '--')"
   ]
  },
  {
   "cell_type": "code",
   "execution_count": 106,
   "metadata": {},
   "outputs": [
    {
     "data": {
      "text/plain": [
       "<matplotlib.lines.Line2D at 0x2ad04d89790>"
      ]
     },
     "execution_count": 106,
     "metadata": {},
     "output_type": "execute_result"
    },
    {
     "data": {
      "image/png": "[encoded data removed]",
      "text/plain": [
       "<Figure size 432x288 with 1 Axes>"
      ]
     },
     "metadata": {
      "needs_background": "light"
     },
     "output_type": "display_data"
    }
   ],
   "source": [
    "# 잔차의 독립성\n",
    "\n",
    "plt.plot(df['Baking_time'], reg_result.resid, marker = 'o')\n",
    "plt.xlabel('Data')\n",
    "plt.ylabel('residual')\n",
    "plt.axhline(y = 0, linestyle = '-')\n",
    "plt.axhline(y = 3*np.std(reg_result.resid), linestyle = '--')\n",
    "plt.axhline(y = -3*np.std(reg_result.resid), linestyle = '--')\n",
    "\n",
    "# 잔차가 0을 기준으로 랜덤하게 분포 => 등분산성과 독립성 만족"
   ]
  },
  {
   "cell_type": "code",
   "execution_count": 108,
   "metadata": {},
   "outputs": [
    {
     "data": {
      "text/plain": [
       "NormaltestResult(statistic=1.723828550857243, pvalue=0.422352808374984)"
      ]
     },
     "execution_count": 108,
     "metadata": {},
     "output_type": "execute_result"
    },
    {
     "data": {
      "image/png": "[encoded data removed]",
      "text/plain": [
       "<Figure size 432x288 with 1 Axes>"
      ]
     },
     "metadata": {
      "needs_background": "light"
     },
     "output_type": "display_data"
    }
   ],
   "source": [
    "# 잔차 정규성 검정 : Q-Q plot, s-standardized line\n",
    "# r-regression line, q-quartiles\n",
    "qqplot(reg_result.resid, line='q')\n",
    "\n",
    "from statsmodels.stats.stattools import omni_normtest\n",
    "omni_normtest(reg_result.resid, axis=0)\n",
    "\n",
    "# 정규분포 직선을 중심으로 분포하고 잔차에 대한 p-value가 0.422로 귀무가설을 채택하므로 정규분포를 따름."
   ]
  },
  {
   "cell_type": "markdown",
   "metadata": {},
   "source": [
    "회귀분석 결과 :  \n",
    "1. y_hat =  13.0013 + 30.8722 * Baking_time  \n",
    "Baking_time p-value : 0.000   \n",
    "R-squared : 0.646  \n",
    "F-statistic : 32.90  \n",
    "p-value : 0.00002  \n",
    "Prob(Omnibus): 0.266  \n",
    "Durbin-Watson : 1.128\n",
    "\n",
    "> 모델링 결과, 최종 회귀식은 1번과 같이 도출되었다.   \n",
    "초콜릿 강도는 굽는 시간에 30.8722를 곱한 것과 13.0013을 더한 것을 값으로 갖는다.   \n",
    "모델의 p-value는 0.00002로 회귀모델로서 유의하다고 볼 수 있다.  \n",
    "굽는 시간에 대한 p-value는 0.000으로, 통계적으로 유의한 변수이다.   \n",
    "R-squared는 0.646으로, 굽는 시간으로 초콜릿의 강도를 64.6% 정도 설명할 수 있다.   \n",
    "설명력이 예상보다 낮게 측정된 것으로 보아, 굽는 시간 외 다른 변수를 고려할 필요성이 있다.  "
   ]
  }
 ],
 "metadata": {
  "kernelspec": {
   "display_name": "Python 3",
   "language": "python",
   "name": "python3"
  },
  "language_info": {
   "codemirror_mode": {
    "name": "ipython",
    "version": 3
   },
   "file_extension": ".py",
   "mimetype": "text/x-python",
   "name": "python",
   "nbconvert_exporter": "python",
   "pygments_lexer": "ipython3",
   "version": "3.8.5"
  },
  "toc": {
   "base_numbering": 1,
   "nav_menu": {},
   "number_sections": true,
   "sideBar": true,
   "skip_h1_title": false,
   "title_cell": "Table of Contents",
   "title_sidebar": "Contents",
   "toc_cell": false,
   "toc_position": {},
   "toc_section_display": true,
   "toc_window_display": false
  }
 },
 "nbformat": 4,
 "nbformat_minor": 4
}
