{
 "cells": [
  {
   "cell_type": "code",
   "execution_count": 12,
   "metadata": {},
   "outputs": [],
   "source": [
    "import numpy as np\n",
    "from scipy import stats\n",
    "import scipy.stats\n",
    "import pandas as pd\n",
    "import seaborn as sns\n",
    "import matplotlib.pyplot as plt\n",
    "import statsmodels.api as sm\n",
    "from statsmodels.stats.proportion import proportions_ztest"
   ]
  },
  {
   "cell_type": "markdown",
   "metadata": {},
   "source": [
    "### [실습] 정규분포의 확률계산  \n",
    "어떤 자동차 1리터당 주행거리가 평균 12km, 표준편차 3km인 정규분포를 이룬다.  \n",
    "1). 1리터를 가지고 9km 이상 15km 이하를 달릴 확률은 얼마인가요?  \n",
    "2). 1리터를 가지고 15km 이상을 달릴 확률은 얼마인가요?"
   ]
  },
  {
   "cell_type": "code",
   "execution_count": 22,
   "metadata": {},
   "outputs": [
    {
     "name": "stdout",
     "output_type": "stream",
     "text": [
      "9km 이상 15km이하를 달릴 확률은 0.683에 해당함\n",
      "15km 이상 달릴 확률은 0.159에 해당함\n"
     ]
    }
   ],
   "source": [
    "mu = 12\n",
    "sigma = 3\n",
    "x = 9\n",
    "x1 = 15\n",
    "# 누적확률값 계산\n",
    "prob_9 = stats.norm.cdf(x, mu, sigma) \n",
    "prob_15 = stats.norm.cdf(x1, mu, sigma)\n",
    "\n",
    "print(\"{0}km 이상 {1}km이하를 달릴 확률은 {2:.3f}에 해당함\".format(x, x1, prob_15-prob_9))\n",
    "print(\"{0}km 이상 달릴 확률은 {1:.3f}에 해당함\".format(x1, 1-prob_15))"
   ]
  },
  {
   "cell_type": "markdown",
   "metadata": {},
   "source": [
    "### 실습(포아송 분포)\n",
    "한 상점에는 평균 1시간에 3명씩 포아송분포로 손님이 도착한다.\n",
    "이 때 10시에서 11시 사이에 다음이 발생할 확률을 구하시오.\n",
    "\n",
    "1. 2명의 손님이 도착\n",
    "2. 1명 이하의 손님이 도착\n",
    "3. 3명 이상의 손님이 도착"
   ]
  },
  {
   "cell_type": "code",
   "execution_count": 45,
   "metadata": {},
   "outputs": [
    {
     "name": "stdout",
     "output_type": "stream",
     "text": [
      "10시에서 11시 사이에 2명의 손님이 도착할 확률 : 0.22\n",
      "10시에서 11시 사이에 1명 이하의 손님이 도착할 확률 : 0.20\n",
      "10시에서 11시 사이에 3명 이상의 손님이 도착할 확률 : 0.58\n"
     ]
    }
   ],
   "source": [
    "mu = 3\n",
    "# 확률질량값\n",
    "prob = stats.poisson.pmf(2, mu)\n",
    "# 누적확률값\n",
    "cdf_prob = stats.poisson.cdf(1, mu)\n",
    "cdf_prob2 = stats.poisson.cdf(2, mu)\n",
    "\n",
    "print(\"10시에서 11시 사이에 {0}명의 손님이 도착할 확률 : {1:.2f}\".format(2, prob))\n",
    "print(\"10시에서 11시 사이에 {0}명 이하의 손님이 도착할 확률 : {1:.2f}\".format(1, cdf_prob))\n",
    "print(\"10시에서 11시 사이에 {0}명 이상의 손님이 도착할 확률 : {1:.2f}\".format(3, 1-cdf_prob2))\n",
    "\n",
    "# 손님이 2명 올 확률은 0.224\n",
    "# 손님이 1명 이하로 올 확률은 0.199\n",
    "# 손님이 3명 이상 올 확률은 0.577"
   ]
  },
  {
   "cell_type": "markdown",
   "metadata": {},
   "source": [
    "### [실습] 정규성 검정  \n",
    "변수 Mat_A, Mat_B에 대해 각각 정규성을 검정"
   ]
  },
  {
   "cell_type": "code",
   "execution_count": 28,
   "metadata": {},
   "outputs": [
    {
     "name": "stdout",
     "output_type": "stream",
     "text": [
      "Mat_A의 검정통계량 : 0.9062638878822327, p-value는 0.25630074739456177\n",
      "Mat_B의 검정통계량 : 0.9729756116867065, p-value는 0.9169799089431763\n"
     ]
    }
   ],
   "source": [
    "data = pd.read_csv('2sample_t_test.csv')\n",
    "data = data.dropna() # 결측값 제거\n",
    "\n",
    "A = data['Mat_A']\n",
    "B = data['Mat_B']"
   ]
  },
  {
   "cell_type": "code",
   "execution_count": 32,
   "metadata": {},
   "outputs": [
    {
     "name": "stdout",
     "output_type": "stream",
     "text": [
      "Mat_A의 검정통계량 : 0.9062638878822327, p-value는 0.256\n",
      "Mat_B의 검정통계량 : 0.9729756116867065, p-value는 0.917\n"
     ]
    }
   ],
   "source": [
    "# 검정통계량, p-value 계산\n",
    "statistic_a, p_a = stats.shapiro(A)\n",
    "statistic_b, p_b = stats.shapiro(B)\n",
    "\n",
    "print('Mat_A의 검정통계량 : {0}, p-value는 {1:.3f}'.format(statistic_a, p_a))\n",
    "print('Mat_B의 검정통계량 : {0}, p-value는 {1:.3f}'.format(statistic_b, p_b))"
   ]
  },
  {
   "cell_type": "markdown",
   "metadata": {},
   "source": [
    "해석 : Mat_A의 경우, p-value가 0.256으로 정규성을 충족한다고 볼 수 있습니다.  \n",
    "       Mat_B 또한, p-value가 0.917로 정규성을 충족한다고 볼 수 있습니다."
   ]
  },
  {
   "cell_type": "markdown",
   "metadata": {},
   "source": [
    "### [실습] 모평균 추정(모표준편차 아는 경우]  \n",
    "새로운 품종의 감자 20 Box를 랜덤추출하여 무게를 측정할 결과가 다음과 같음  \n",
    "(단, 모표준편차는 3.8로 알려져 있음)  \n",
    "이 자료로부터 신품종 배추의 평균 무게에 대한 95% 신뢰구간을 구하시오"
   ]
  },
  {
   "cell_type": "code",
   "execution_count": 43,
   "metadata": {},
   "outputs": [
    {
     "name": "stdout",
     "output_type": "stream",
     "text": [
      "신뢰구간 : (17.83, 21.17)\n"
     ]
    }
   ],
   "source": [
    "# 직접 계산\n",
    "\n",
    "data = [18, 18, 20, 21, 20, 23, 19, 18, 17, 21,\n",
    "       22, 20, 20, 21, 20, 19, 19, 18, 17, 19]\n",
    "sigma = 3.8\n",
    "sum_d = (18 + 18 + 20 + 21 + 20 + 23 + 19 + 18 + 17 + 21 +22 + 20 + 20 + 21 + 20 + 19 + 19 + 18 + 17 + 19)/20\n",
    "lower = sum_d - 1.96*(3.8/np.sqrt(20))\n",
    "upper = sum_d + 1.96*(3.8/np.sqrt(20))\n",
    "\n",
    "print(\"신뢰구간 : ({0}, {1})\".format(lower.round(2), upper.round(2)))"
   ]
  },
  {
   "cell_type": "code",
   "execution_count": 49,
   "metadata": {},
   "outputs": [
    {
     "name": "stdout",
     "output_type": "stream",
     "text": [
      "신뢰구간 : (17.83, 21.17)\n"
     ]
    }
   ],
   "source": [
    "# 함수 활용\n",
    "lower, upper = stats.norm.interval(0.95, loc = np.mean(data), scale = 3.8/np.sqrt(20))\n",
    "print(\"신뢰구간 : ({0}, {1})\".format(lower.round(2), upper.round(2)))"
   ]
  },
  {
   "cell_type": "markdown",
   "metadata": {},
   "source": [
    "감자 20 Box 평균 무게에 대한 95% 신뢰구간은 17.83에서 21.17 입니다.  \n",
    "즉, (17.83, 21.17) 내에 실제 모평균이 있을 가능성이 95% 라고 할 수 있습니다."
   ]
  },
  {
   "cell_type": "markdown",
   "metadata": {},
   "source": [
    "### [실습] 모평균 추정\n",
    "제품개발자는 새로 개발된 강종의 평균 인장강도를 70kg/mm(제곱)으로 기대하고 있음.  \n",
    "이를 검증하기 위해 시험 생산되는 강종 중 임의로 20개의 코일을 대상으로 랜덤하게 시편을 채취하였음(data)  \n",
    "data로부터 표본평균은 71.50kg/mm(제곱), 표본표준편차는 1.933kg/mm(제곱)임을 알았음.  \n",
    "이 모평균값의 95% 신뢰구간을 추정하시오."
   ]
  },
  {
   "cell_type": "code",
   "execution_count": 51,
   "metadata": {},
   "outputs": [
    {
     "name": "stdout",
     "output_type": "stream",
     "text": [
      "신뢰구간 : (70.6, 72.4)\n"
     ]
    }
   ],
   "source": [
    "data = [73, 71, 74, 69, 70, 73, 70, 68, 75, 72,\n",
    "       70, 72, 73, 70, 70, 72, 71, 70, 75, 72]\n",
    "lower, upper = stats.t.interval(0.95, len(data)-1, loc = np.mean(data), scale = scipy.stats.sem(data))\n",
    "print(\"신뢰구간 : ({0}, {1})\".format(lower.round(2), upper.round(2)))"
   ]
  },
  {
   "cell_type": "markdown",
   "metadata": {},
   "source": [
    "모평균 추정 결과, 새로 개발된 강종의 평균 인장강도의 95% 신뢰구간은 (70.6, 72.4) 입니다.  \n",
    "95% 신뢰수준에서는 제품개발자가 기대한 인장강도 70kg/mm(제곱)은 모평균으로 추정될 수 없다.   "
   ]
  }
 ],
 "metadata": {
  "kernelspec": {
   "display_name": "Python 3",
   "language": "python",
   "name": "python3"
  },
  "language_info": {
   "codemirror_mode": {
    "name": "ipython",
    "version": 3
   },
   "file_extension": ".py",
   "mimetype": "text/x-python",
   "name": "python",
   "nbconvert_exporter": "python",
   "pygments_lexer": "ipython3",
   "version": "3.8.5"
  },
  "toc": {
   "base_numbering": 1,
   "nav_menu": {},
   "number_sections": true,
   "sideBar": true,
   "skip_h1_title": false,
   "title_cell": "Table of Contents",
   "title_sidebar": "Contents",
   "toc_cell": false,
   "toc_position": {},
   "toc_section_display": true,
   "toc_window_display": false
  }
 },
 "nbformat": 4,
 "nbformat_minor": 4
}
