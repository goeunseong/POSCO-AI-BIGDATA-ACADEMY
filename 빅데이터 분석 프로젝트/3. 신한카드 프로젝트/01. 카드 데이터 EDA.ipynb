{
 "cells": [
  {
   "cell_type": "code",
   "execution_count": 10,
   "metadata": {},
   "outputs": [],
   "source": [
    "import pandas as pd\n",
    "import numpy as np\n",
    "import matplotlib.pyplot as plt\n",
    "import matplotlib\n",
    "matplotlib.rc('font', family = 'Malgun Gothic')\n",
    "matplotlib.rcParams['axes.unicode_minus'] = False\n",
    "import seaborn as sns\n",
    "import warnings\n",
    "warnings.filterwarnings(action='ignore')"
   ]
  },
  {
   "cell_type": "code",
   "execution_count": 11,
   "metadata": {},
   "outputs": [],
   "source": [
    "df_spend = pd.read_csv('000_Card_Spending.csv', encoding='utf-8')\n",
    "df_card = pd.read_csv('000_Card_Data.csv', encoding='utf-8')\n",
    "df_tel = pd.read_csv('000_Telemarketing_Data.csv', encoding='utf-8')"
   ]
  },
  {
   "cell_type": "code",
   "execution_count": 12,
   "metadata": {},
   "outputs": [
    {
     "data": {
      "text/plain": [
       "연령              0\n",
       "직업군             0\n",
       "결혼여부            0\n",
       "학력              0\n",
       "신용카드소지여부        0\n",
       "주택대출여부          0\n",
       "개인대출여부          0\n",
       "contact         0\n",
       "통화시간            0\n",
       "연락시도횟수          0\n",
       "p_days      39673\n",
       "과거통화횟수          0\n",
       "계약여부            0\n",
       "연락일자            0\n",
       "카드종류            0\n",
       "dtype: int64"
      ]
     },
     "execution_count": 12,
     "metadata": {},
     "output_type": "execute_result"
    }
   ],
   "source": [
    "df_tel.isnull().sum()"
   ]
  },
  {
   "cell_type": "code",
   "execution_count": 13,
   "metadata": {},
   "outputs": [
    {
     "data": {
      "text/plain": [
       "17      5\n",
       "18     28\n",
       "19     42\n",
       "20     65\n",
       "21    102\n",
       "     ... \n",
       "91      2\n",
       "92      4\n",
       "94      1\n",
       "95      1\n",
       "98      2\n",
       "Name: 연령, Length: 78, dtype: int64"
      ]
     },
     "metadata": {},
     "output_type": "display_data"
    },
    {
     "data": {
      "text/plain": [
       "공무원        2924\n",
       "기술자        6743\n",
       "기업가        1456\n",
       "미취업자       1014\n",
       "미확인         330\n",
       "산업노동자      9254\n",
       "서비스종사자     3969\n",
       "은퇴         1720\n",
       "자영업자       1421\n",
       "주부         1060\n",
       "학생          875\n",
       "회사원       10422\n",
       "Name: 직업군, dtype: int64"
      ]
     },
     "metadata": {},
     "output_type": "display_data"
    },
    {
     "data": {
      "text/plain": [
       "결혼     24928\n",
       "미혼     11568\n",
       "미확인       80\n",
       "이혼      4612\n",
       "Name: 결혼여부, dtype: int64"
      ]
     },
     "metadata": {},
     "output_type": "display_data"
    },
    {
     "data": {
      "text/plain": [
       "검정고시     2292\n",
       "고졸       6045\n",
       "대졸학사    12168\n",
       "문맹         18\n",
       "미확인      1731\n",
       "석박사      5243\n",
       "전문학교     9515\n",
       "중졸       4176\n",
       "Name: 학력, dtype: int64"
      ]
     },
     "metadata": {},
     "output_type": "display_data"
    },
    {
     "data": {
      "text/plain": [
       "미확인     8597\n",
       "없음     32588\n",
       "있음         3\n",
       "Name: 신용카드소지여부, dtype: int64"
      ]
     },
     "metadata": {},
     "output_type": "display_data"
    },
    {
     "data": {
      "text/plain": [
       "대출있음    21576\n",
       "미확인       990\n",
       "없음      18622\n",
       "Name: 주택대출여부, dtype: int64"
      ]
     },
     "metadata": {},
     "output_type": "display_data"
    },
    {
     "data": {
      "text/plain": [
       "대출있음     6248\n",
       "미확인       990\n",
       "없음      33950\n",
       "Name: 개인대출여부, dtype: int64"
      ]
     },
     "metadata": {},
     "output_type": "display_data"
    },
    {
     "data": {
      "text/plain": [
       "유선전화    15044\n",
       "휴대폰     26144\n",
       "Name: contact, dtype: int64"
      ]
     },
     "metadata": {},
     "output_type": "display_data"
    },
    {
     "data": {
      "text/plain": [
       "0        4\n",
       "1        3\n",
       "2        1\n",
       "3        3\n",
       "4       12\n",
       "        ..\n",
       "3631     1\n",
       "3643     1\n",
       "3785     1\n",
       "4199     1\n",
       "4918     1\n",
       "Name: 통화시간, Length: 1544, dtype: int64"
      ]
     },
     "metadata": {},
     "output_type": "display_data"
    },
    {
     "data": {
      "text/plain": [
       "1     17642\n",
       "2     10570\n",
       "3      5341\n",
       "4      2651\n",
       "5      1599\n",
       "6       979\n",
       "7       629\n",
       "8       400\n",
       "9       283\n",
       "10      225\n",
       "11      177\n",
       "12      125\n",
       "13       92\n",
       "14       69\n",
       "15       51\n",
       "16       51\n",
       "17       58\n",
       "18       33\n",
       "19       26\n",
       "20       30\n",
       "21       24\n",
       "22       17\n",
       "23       16\n",
       "24       15\n",
       "25        8\n",
       "26        8\n",
       "27       11\n",
       "28        8\n",
       "29       10\n",
       "30        7\n",
       "31        7\n",
       "32        4\n",
       "33        4\n",
       "34        3\n",
       "35        5\n",
       "37        1\n",
       "39        1\n",
       "40        2\n",
       "41        1\n",
       "42        2\n",
       "43        2\n",
       "56        1\n",
       "Name: 연락시도횟수, dtype: int64"
      ]
     },
     "metadata": {},
     "output_type": "display_data"
    },
    {
     "data": {
      "text/plain": [
       "0.0      15\n",
       "1.0      26\n",
       "2.0      61\n",
       "3.0     439\n",
       "4.0     118\n",
       "5.0      46\n",
       "6.0     412\n",
       "7.0      60\n",
       "8.0      18\n",
       "9.0      64\n",
       "10.0     52\n",
       "11.0     28\n",
       "12.0     58\n",
       "13.0     36\n",
       "14.0     20\n",
       "15.0     24\n",
       "16.0     11\n",
       "17.0      8\n",
       "18.0      7\n",
       "19.0      3\n",
       "20.0      1\n",
       "21.0      2\n",
       "22.0      3\n",
       "25.0      1\n",
       "26.0      1\n",
       "27.0      1\n",
       "Name: p_days, dtype: int64"
      ]
     },
     "metadata": {},
     "output_type": "display_data"
    },
    {
     "data": {
      "text/plain": [
       "0    35563\n",
       "1     4561\n",
       "2      754\n",
       "3      216\n",
       "4       70\n",
       "5       18\n",
       "6        5\n",
       "7        1\n",
       "Name: 과거통화횟수, dtype: int64"
      ]
     },
     "metadata": {},
     "output_type": "display_data"
    },
    {
     "data": {
      "text/plain": [
       "no     36548\n",
       "yes     4640\n",
       "Name: 계약여부, dtype: int64"
      ]
     },
     "metadata": {},
     "output_type": "display_data"
    },
    {
     "data": {
      "text/plain": [
       "2018-01-01     40\n",
       "2018-01-02     75\n",
       "2018-01-03    107\n",
       "2018-01-04     93\n",
       "2018-01-05    127\n",
       "             ... \n",
       "2019-02-24     86\n",
       "2019-02-25     89\n",
       "2019-02-26    114\n",
       "2019-02-27     93\n",
       "2019-02-28    131\n",
       "Name: 연락일자, Length: 424, dtype: int64"
      ]
     },
     "metadata": {},
     "output_type": "display_data"
    },
    {
     "data": {
      "text/plain": [
       "87     293\n",
       "88     293\n",
       "89     293\n",
       "90     293\n",
       "91     293\n",
       "      ... \n",
       "223    292\n",
       "224    292\n",
       "225    292\n",
       "226    292\n",
       "227    292\n",
       "Name: 카드종류, Length: 141, dtype: int64"
      ]
     },
     "metadata": {},
     "output_type": "display_data"
    }
   ],
   "source": [
    "display(df_tel['연령'].value_counts().sort_index(), df_tel['직업군'].value_counts().sort_index(), df_tel['결혼여부'].value_counts().sort_index(), df_tel['학력'].value_counts().sort_index(), df_tel['신용카드소지여부'].value_counts().sort_index(), df_tel['주택대출여부'].value_counts().sort_index(), df_tel['개인대출여부'].value_counts().sort_index(), df_tel['contact'].value_counts().sort_index(), df_tel['통화시간'].value_counts().sort_index(), df_tel['연락시도횟수'].value_counts().sort_index(), df_tel['p_days'].value_counts().sort_index(), df_tel['과거통화횟수'].value_counts().sort_index(), df_tel['계약여부'].value_counts().sort_index(), df_tel['연락일자'].value_counts().sort_index(), df_tel['카드종류'].value_counts().sort_index())"
   ]
  },
  {
   "cell_type": "code",
   "execution_count": 14,
   "metadata": {},
   "outputs": [],
   "source": [
    "# df_tel[(df_tel['연령'] < 19) & (df_tel['계약여부'] == 'yes')]"
   ]
  },
  {
   "cell_type": "code",
   "execution_count": 15,
   "metadata": {},
   "outputs": [],
   "source": [
    "df_tel['p_days'].fillna('안함', inplace=True)\n",
    "df_tel['재연락'] = np.where(df_tel['p_days'] == '안함', 0, 1)"
   ]
  },
  {
   "cell_type": "code",
   "execution_count": 16,
   "metadata": {
    "scrolled": true
   },
   "outputs": [
    {
     "data": {
      "text/plain": [
       "<AxesSubplot:xlabel='재연락', ylabel='count'>"
      ]
     },
     "execution_count": 16,
     "metadata": {},
     "output_type": "execute_result"
    },
    {
     "data": {
      "image/png": "[encoded data removed]",
      "text/plain": [
       "<Figure size 432x288 with 1 Axes>"
      ]
     },
     "metadata": {
      "needs_background": "light"
     },
     "output_type": "display_data"
    }
   ],
   "source": [
    "sns.countplot('재연락', data=df_tel, hue='계약여부')"
   ]
  },
  {
   "cell_type": "code",
   "execution_count": 17,
   "metadata": {},
   "outputs": [
    {
     "data": {
      "text/plain": [
       "yes    967\n",
       "no     548\n",
       "Name: 계약여부, dtype: int64"
      ]
     },
     "execution_count": 17,
     "metadata": {},
     "output_type": "execute_result"
    }
   ],
   "source": [
    "df_tel[df_tel['재연락'] == 1]['계약여부'].value_counts()"
   ]
  },
  {
   "cell_type": "code",
   "execution_count": 18,
   "metadata": {},
   "outputs": [
    {
     "data": {
      "text/plain": [
       "no     36000\n",
       "yes     3673\n",
       "Name: 계약여부, dtype: int64"
      ]
     },
     "execution_count": 18,
     "metadata": {},
     "output_type": "execute_result"
    }
   ],
   "source": [
    "df_tel[df_tel['재연락'] == 0]['계약여부'].value_counts()"
   ]
  },
  {
   "cell_type": "code",
   "execution_count": 19,
   "metadata": {
    "scrolled": true
   },
   "outputs": [
    {
     "data": {
      "text/plain": [
       "yes    566\n",
       "no     390\n",
       "Name: 계약여부, dtype: int64"
      ]
     },
     "execution_count": 19,
     "metadata": {},
     "output_type": "execute_result"
    }
   ],
   "source": [
    "df_tel[df_tel['통화시간'] > 1000]['계약여부'].value_counts()"
   ]
  },
  {
   "cell_type": "code",
   "execution_count": 20,
   "metadata": {},
   "outputs": [
    {
     "data": {
      "text/html": [
       "<div>\n",
       "<style scoped>\n",
       "    .dataframe tbody tr th:only-of-type {\n",
       "        vertical-align: middle;\n",
       "    }\n",
       "\n",
       "    .dataframe tbody tr th {\n",
       "        vertical-align: top;\n",
       "    }\n",
       "\n",
       "    .dataframe thead th {\n",
       "        text-align: right;\n",
       "    }\n",
       "</style>\n",
       "<table border=\"1\" class=\"dataframe\">\n",
       "  <thead>\n",
       "    <tr style=\"text-align: right;\">\n",
       "      <th></th>\n",
       "      <th>연령</th>\n",
       "      <th>직업군</th>\n",
       "      <th>결혼여부</th>\n",
       "      <th>학력</th>\n",
       "      <th>신용카드소지여부</th>\n",
       "      <th>주택대출여부</th>\n",
       "      <th>개인대출여부</th>\n",
       "      <th>contact</th>\n",
       "      <th>통화시간</th>\n",
       "      <th>연락시도횟수</th>\n",
       "      <th>p_days</th>\n",
       "      <th>과거통화횟수</th>\n",
       "      <th>계약여부</th>\n",
       "      <th>연락일자</th>\n",
       "      <th>카드종류</th>\n",
       "      <th>재연락</th>\n",
       "    </tr>\n",
       "  </thead>\n",
       "  <tbody>\n",
       "    <tr>\n",
       "      <th>0</th>\n",
       "      <td>56</td>\n",
       "      <td>주부</td>\n",
       "      <td>결혼</td>\n",
       "      <td>중졸</td>\n",
       "      <td>없음</td>\n",
       "      <td>없음</td>\n",
       "      <td>없음</td>\n",
       "      <td>유선전화</td>\n",
       "      <td>261</td>\n",
       "      <td>1</td>\n",
       "      <td>안함</td>\n",
       "      <td>0</td>\n",
       "      <td>no</td>\n",
       "      <td>2018-01-03</td>\n",
       "      <td>87</td>\n",
       "      <td>0</td>\n",
       "    </tr>\n",
       "    <tr>\n",
       "      <th>1</th>\n",
       "      <td>57</td>\n",
       "      <td>서비스종사자</td>\n",
       "      <td>결혼</td>\n",
       "      <td>전문학교</td>\n",
       "      <td>미확인</td>\n",
       "      <td>없음</td>\n",
       "      <td>없음</td>\n",
       "      <td>유선전화</td>\n",
       "      <td>149</td>\n",
       "      <td>1</td>\n",
       "      <td>안함</td>\n",
       "      <td>0</td>\n",
       "      <td>no</td>\n",
       "      <td>2018-01-03</td>\n",
       "      <td>88</td>\n",
       "      <td>0</td>\n",
       "    </tr>\n",
       "    <tr>\n",
       "      <th>2</th>\n",
       "      <td>37</td>\n",
       "      <td>서비스종사자</td>\n",
       "      <td>결혼</td>\n",
       "      <td>전문학교</td>\n",
       "      <td>없음</td>\n",
       "      <td>대출있음</td>\n",
       "      <td>없음</td>\n",
       "      <td>유선전화</td>\n",
       "      <td>226</td>\n",
       "      <td>1</td>\n",
       "      <td>안함</td>\n",
       "      <td>0</td>\n",
       "      <td>no</td>\n",
       "      <td>2018-01-03</td>\n",
       "      <td>89</td>\n",
       "      <td>0</td>\n",
       "    </tr>\n",
       "    <tr>\n",
       "      <th>3</th>\n",
       "      <td>40</td>\n",
       "      <td>회사원</td>\n",
       "      <td>결혼</td>\n",
       "      <td>검정고시</td>\n",
       "      <td>없음</td>\n",
       "      <td>없음</td>\n",
       "      <td>없음</td>\n",
       "      <td>유선전화</td>\n",
       "      <td>151</td>\n",
       "      <td>1</td>\n",
       "      <td>안함</td>\n",
       "      <td>0</td>\n",
       "      <td>no</td>\n",
       "      <td>2018-01-03</td>\n",
       "      <td>90</td>\n",
       "      <td>0</td>\n",
       "    </tr>\n",
       "    <tr>\n",
       "      <th>4</th>\n",
       "      <td>56</td>\n",
       "      <td>서비스종사자</td>\n",
       "      <td>결혼</td>\n",
       "      <td>전문학교</td>\n",
       "      <td>없음</td>\n",
       "      <td>없음</td>\n",
       "      <td>대출있음</td>\n",
       "      <td>유선전화</td>\n",
       "      <td>307</td>\n",
       "      <td>1</td>\n",
       "      <td>안함</td>\n",
       "      <td>0</td>\n",
       "      <td>no</td>\n",
       "      <td>2018-01-03</td>\n",
       "      <td>91</td>\n",
       "      <td>0</td>\n",
       "    </tr>\n",
       "  </tbody>\n",
       "</table>\n",
       "</div>"
      ],
      "text/plain": [
       "   연령     직업군 결혼여부    학력 신용카드소지여부 주택대출여부 개인대출여부 contact  통화시간  연락시도횟수 p_days  \\\n",
       "0  56      주부   결혼    중졸       없음     없음     없음    유선전화   261       1     안함   \n",
       "1  57  서비스종사자   결혼  전문학교      미확인     없음     없음    유선전화   149       1     안함   \n",
       "2  37  서비스종사자   결혼  전문학교       없음   대출있음     없음    유선전화   226       1     안함   \n",
       "3  40     회사원   결혼  검정고시       없음     없음     없음    유선전화   151       1     안함   \n",
       "4  56  서비스종사자   결혼  전문학교       없음     없음   대출있음    유선전화   307       1     안함   \n",
       "\n",
       "   과거통화횟수 계약여부        연락일자  카드종류  재연락  \n",
       "0       0   no  2018-01-03    87    0  \n",
       "1       0   no  2018-01-03    88    0  \n",
       "2       0   no  2018-01-03    89    0  \n",
       "3       0   no  2018-01-03    90    0  \n",
       "4       0   no  2018-01-03    91    0  "
      ]
     },
     "execution_count": 20,
     "metadata": {},
     "output_type": "execute_result"
    }
   ],
   "source": [
    "df_tel.head()"
   ]
  },
  {
   "cell_type": "code",
   "execution_count": 21,
   "metadata": {},
   "outputs": [
    {
     "data": {
      "text/plain": [
       "<Figure size 720x360 with 0 Axes>"
      ]
     },
     "execution_count": 21,
     "metadata": {},
     "output_type": "execute_result"
    },
    {
     "data": {
      "text/plain": [
       "<Figure size 720x360 with 0 Axes>"
      ]
     },
     "metadata": {},
     "output_type": "display_data"
    }
   ],
   "source": [
    "plt.figure(figsize=(10,5))\n",
    "# plt.title(\"일자별 계약여부\", fontsize=15)\n",
    "# df_tel.groupby('연락일자').\n",
    "# plt.axhline(y= df_tel['연락시도횟수'].mean(), linestyle='--', color='red', label=\"mean\")\n",
    "# plt.grid()\n",
    "# plt.legend(fontsize=13)\n",
    "# plt.xticks(rotation=90)\n",
    "# plt.show()"
   ]
  },
  {
   "cell_type": "code",
   "execution_count": 22,
   "metadata": {},
   "outputs": [
    {
     "data": {
      "text/html": [
       "<div>\n",
       "<style scoped>\n",
       "    .dataframe tbody tr th:only-of-type {\n",
       "        vertical-align: middle;\n",
       "    }\n",
       "\n",
       "    .dataframe tbody tr th {\n",
       "        vertical-align: top;\n",
       "    }\n",
       "\n",
       "    .dataframe thead th {\n",
       "        text-align: right;\n",
       "    }\n",
       "</style>\n",
       "<table border=\"1\" class=\"dataframe\">\n",
       "  <thead>\n",
       "    <tr style=\"text-align: right;\">\n",
       "      <th></th>\n",
       "      <th>연령</th>\n",
       "      <th>직업군</th>\n",
       "      <th>결혼여부</th>\n",
       "      <th>학력</th>\n",
       "      <th>신용카드소지여부</th>\n",
       "      <th>주택대출여부</th>\n",
       "      <th>개인대출여부</th>\n",
       "      <th>contact</th>\n",
       "      <th>통화시간</th>\n",
       "      <th>연락시도횟수</th>\n",
       "      <th>p_days</th>\n",
       "      <th>과거통화횟수</th>\n",
       "      <th>계약여부</th>\n",
       "      <th>카드종류</th>\n",
       "      <th>재연락</th>\n",
       "    </tr>\n",
       "    <tr>\n",
       "      <th>연락일자</th>\n",
       "      <th></th>\n",
       "      <th></th>\n",
       "      <th></th>\n",
       "      <th></th>\n",
       "      <th></th>\n",
       "      <th></th>\n",
       "      <th></th>\n",
       "      <th></th>\n",
       "      <th></th>\n",
       "      <th></th>\n",
       "      <th></th>\n",
       "      <th></th>\n",
       "      <th></th>\n",
       "      <th></th>\n",
       "      <th></th>\n",
       "    </tr>\n",
       "  </thead>\n",
       "  <tbody>\n",
       "    <tr>\n",
       "      <th>2018-01-01</th>\n",
       "      <td>40</td>\n",
       "      <td>40</td>\n",
       "      <td>40</td>\n",
       "      <td>40</td>\n",
       "      <td>40</td>\n",
       "      <td>40</td>\n",
       "      <td>40</td>\n",
       "      <td>40</td>\n",
       "      <td>40</td>\n",
       "      <td>40</td>\n",
       "      <td>40</td>\n",
       "      <td>40</td>\n",
       "      <td>40</td>\n",
       "      <td>40</td>\n",
       "      <td>40</td>\n",
       "    </tr>\n",
       "    <tr>\n",
       "      <th>2018-01-02</th>\n",
       "      <td>75</td>\n",
       "      <td>75</td>\n",
       "      <td>75</td>\n",
       "      <td>75</td>\n",
       "      <td>75</td>\n",
       "      <td>75</td>\n",
       "      <td>75</td>\n",
       "      <td>75</td>\n",
       "      <td>75</td>\n",
       "      <td>75</td>\n",
       "      <td>75</td>\n",
       "      <td>75</td>\n",
       "      <td>75</td>\n",
       "      <td>75</td>\n",
       "      <td>75</td>\n",
       "    </tr>\n",
       "    <tr>\n",
       "      <th>2018-01-03</th>\n",
       "      <td>107</td>\n",
       "      <td>107</td>\n",
       "      <td>107</td>\n",
       "      <td>107</td>\n",
       "      <td>107</td>\n",
       "      <td>107</td>\n",
       "      <td>107</td>\n",
       "      <td>107</td>\n",
       "      <td>107</td>\n",
       "      <td>107</td>\n",
       "      <td>107</td>\n",
       "      <td>107</td>\n",
       "      <td>107</td>\n",
       "      <td>107</td>\n",
       "      <td>107</td>\n",
       "    </tr>\n",
       "    <tr>\n",
       "      <th>2018-01-04</th>\n",
       "      <td>93</td>\n",
       "      <td>93</td>\n",
       "      <td>93</td>\n",
       "      <td>93</td>\n",
       "      <td>93</td>\n",
       "      <td>93</td>\n",
       "      <td>93</td>\n",
       "      <td>93</td>\n",
       "      <td>93</td>\n",
       "      <td>93</td>\n",
       "      <td>93</td>\n",
       "      <td>93</td>\n",
       "      <td>93</td>\n",
       "      <td>93</td>\n",
       "      <td>93</td>\n",
       "    </tr>\n",
       "    <tr>\n",
       "      <th>2018-01-05</th>\n",
       "      <td>127</td>\n",
       "      <td>127</td>\n",
       "      <td>127</td>\n",
       "      <td>127</td>\n",
       "      <td>127</td>\n",
       "      <td>127</td>\n",
       "      <td>127</td>\n",
       "      <td>127</td>\n",
       "      <td>127</td>\n",
       "      <td>127</td>\n",
       "      <td>127</td>\n",
       "      <td>127</td>\n",
       "      <td>127</td>\n",
       "      <td>127</td>\n",
       "      <td>127</td>\n",
       "    </tr>\n",
       "    <tr>\n",
       "      <th>...</th>\n",
       "      <td>...</td>\n",
       "      <td>...</td>\n",
       "      <td>...</td>\n",
       "      <td>...</td>\n",
       "      <td>...</td>\n",
       "      <td>...</td>\n",
       "      <td>...</td>\n",
       "      <td>...</td>\n",
       "      <td>...</td>\n",
       "      <td>...</td>\n",
       "      <td>...</td>\n",
       "      <td>...</td>\n",
       "      <td>...</td>\n",
       "      <td>...</td>\n",
       "      <td>...</td>\n",
       "    </tr>\n",
       "    <tr>\n",
       "      <th>2019-02-24</th>\n",
       "      <td>86</td>\n",
       "      <td>86</td>\n",
       "      <td>86</td>\n",
       "      <td>86</td>\n",
       "      <td>86</td>\n",
       "      <td>86</td>\n",
       "      <td>86</td>\n",
       "      <td>86</td>\n",
       "      <td>86</td>\n",
       "      <td>86</td>\n",
       "      <td>86</td>\n",
       "      <td>86</td>\n",
       "      <td>86</td>\n",
       "      <td>86</td>\n",
       "      <td>86</td>\n",
       "    </tr>\n",
       "    <tr>\n",
       "      <th>2019-02-25</th>\n",
       "      <td>89</td>\n",
       "      <td>89</td>\n",
       "      <td>89</td>\n",
       "      <td>89</td>\n",
       "      <td>89</td>\n",
       "      <td>89</td>\n",
       "      <td>89</td>\n",
       "      <td>89</td>\n",
       "      <td>89</td>\n",
       "      <td>89</td>\n",
       "      <td>89</td>\n",
       "      <td>89</td>\n",
       "      <td>89</td>\n",
       "      <td>89</td>\n",
       "      <td>89</td>\n",
       "    </tr>\n",
       "    <tr>\n",
       "      <th>2019-02-26</th>\n",
       "      <td>114</td>\n",
       "      <td>114</td>\n",
       "      <td>114</td>\n",
       "      <td>114</td>\n",
       "      <td>114</td>\n",
       "      <td>114</td>\n",
       "      <td>114</td>\n",
       "      <td>114</td>\n",
       "      <td>114</td>\n",
       "      <td>114</td>\n",
       "      <td>114</td>\n",
       "      <td>114</td>\n",
       "      <td>114</td>\n",
       "      <td>114</td>\n",
       "      <td>114</td>\n",
       "    </tr>\n",
       "    <tr>\n",
       "      <th>2019-02-27</th>\n",
       "      <td>93</td>\n",
       "      <td>93</td>\n",
       "      <td>93</td>\n",
       "      <td>93</td>\n",
       "      <td>93</td>\n",
       "      <td>93</td>\n",
       "      <td>93</td>\n",
       "      <td>93</td>\n",
       "      <td>93</td>\n",
       "      <td>93</td>\n",
       "      <td>93</td>\n",
       "      <td>93</td>\n",
       "      <td>93</td>\n",
       "      <td>93</td>\n",
       "      <td>93</td>\n",
       "    </tr>\n",
       "    <tr>\n",
       "      <th>2019-02-28</th>\n",
       "      <td>131</td>\n",
       "      <td>131</td>\n",
       "      <td>131</td>\n",
       "      <td>131</td>\n",
       "      <td>131</td>\n",
       "      <td>131</td>\n",
       "      <td>131</td>\n",
       "      <td>131</td>\n",
       "      <td>131</td>\n",
       "      <td>131</td>\n",
       "      <td>131</td>\n",
       "      <td>131</td>\n",
       "      <td>131</td>\n",
       "      <td>131</td>\n",
       "      <td>131</td>\n",
       "    </tr>\n",
       "  </tbody>\n",
       "</table>\n",
       "<p>424 rows × 15 columns</p>\n",
       "</div>"
      ],
      "text/plain": [
       "             연령  직업군  결혼여부   학력  신용카드소지여부  주택대출여부  개인대출여부  contact  통화시간  \\\n",
       "연락일자                                                                       \n",
       "2018-01-01   40   40    40   40        40      40      40       40    40   \n",
       "2018-01-02   75   75    75   75        75      75      75       75    75   \n",
       "2018-01-03  107  107   107  107       107     107     107      107   107   \n",
       "2018-01-04   93   93    93   93        93      93      93       93    93   \n",
       "2018-01-05  127  127   127  127       127     127     127      127   127   \n",
       "...         ...  ...   ...  ...       ...     ...     ...      ...   ...   \n",
       "2019-02-24   86   86    86   86        86      86      86       86    86   \n",
       "2019-02-25   89   89    89   89        89      89      89       89    89   \n",
       "2019-02-26  114  114   114  114       114     114     114      114   114   \n",
       "2019-02-27   93   93    93   93        93      93      93       93    93   \n",
       "2019-02-28  131  131   131  131       131     131     131      131   131   \n",
       "\n",
       "            연락시도횟수  p_days  과거통화횟수  계약여부  카드종류  재연락  \n",
       "연락일자                                                 \n",
       "2018-01-01      40      40      40    40    40   40  \n",
       "2018-01-02      75      75      75    75    75   75  \n",
       "2018-01-03     107     107     107   107   107  107  \n",
       "2018-01-04      93      93      93    93    93   93  \n",
       "2018-01-05     127     127     127   127   127  127  \n",
       "...            ...     ...     ...   ...   ...  ...  \n",
       "2019-02-24      86      86      86    86    86   86  \n",
       "2019-02-25      89      89      89    89    89   89  \n",
       "2019-02-26     114     114     114   114   114  114  \n",
       "2019-02-27      93      93      93    93    93   93  \n",
       "2019-02-28     131     131     131   131   131  131  \n",
       "\n",
       "[424 rows x 15 columns]"
      ]
     },
     "execution_count": 22,
     "metadata": {},
     "output_type": "execute_result"
    }
   ],
   "source": [
    "df_tel.groupby('연락일자').count()"
   ]
  },
  {
   "cell_type": "code",
   "execution_count": 23,
   "metadata": {},
   "outputs": [],
   "source": [
    "df_tel['통화시간_2'] = np.where(df_tel['통화시간'] < df_tel['통화시간'].mean(), 0, 1)"
   ]
  },
  {
   "cell_type": "code",
   "execution_count": 24,
   "metadata": {},
   "outputs": [
    {
     "data": {
      "text/html": [
       "<div>\n",
       "<style scoped>\n",
       "    .dataframe tbody tr th:only-of-type {\n",
       "        vertical-align: middle;\n",
       "    }\n",
       "\n",
       "    .dataframe tbody tr th {\n",
       "        vertical-align: top;\n",
       "    }\n",
       "\n",
       "    .dataframe thead th {\n",
       "        text-align: right;\n",
       "    }\n",
       "</style>\n",
       "<table border=\"1\" class=\"dataframe\">\n",
       "  <thead>\n",
       "    <tr style=\"text-align: right;\">\n",
       "      <th>계약여부</th>\n",
       "      <th>no</th>\n",
       "      <th>yes</th>\n",
       "    </tr>\n",
       "    <tr>\n",
       "      <th>통화시간_2</th>\n",
       "      <th></th>\n",
       "      <th></th>\n",
       "    </tr>\n",
       "  </thead>\n",
       "  <tbody>\n",
       "    <tr>\n",
       "      <th>0</th>\n",
       "      <td>26324</td>\n",
       "      <td>1199</td>\n",
       "    </tr>\n",
       "    <tr>\n",
       "      <th>1</th>\n",
       "      <td>10224</td>\n",
       "      <td>3441</td>\n",
       "    </tr>\n",
       "  </tbody>\n",
       "</table>\n",
       "</div>"
      ],
      "text/plain": [
       "계약여부       no   yes\n",
       "통화시간_2             \n",
       "0       26324  1199\n",
       "1       10224  3441"
      ]
     },
     "metadata": {},
     "output_type": "display_data"
    }
   ],
   "source": [
    "call_result = pd.crosstab(df_tel.통화시간_2, df_tel.계약여부)\n",
    "display(call_result)"
   ]
  },
  {
   "cell_type": "code",
   "execution_count": 25,
   "metadata": {
    "scrolled": false
   },
   "outputs": [
    {
     "data": {
      "text/html": [
       "<div>\n",
       "<style scoped>\n",
       "    .dataframe tbody tr th:only-of-type {\n",
       "        vertical-align: middle;\n",
       "    }\n",
       "\n",
       "    .dataframe tbody tr th {\n",
       "        vertical-align: top;\n",
       "    }\n",
       "\n",
       "    .dataframe thead th {\n",
       "        text-align: right;\n",
       "    }\n",
       "</style>\n",
       "<table border=\"1\" class=\"dataframe\">\n",
       "  <thead>\n",
       "    <tr style=\"text-align: right;\">\n",
       "      <th>계약여부</th>\n",
       "      <th>no</th>\n",
       "      <th>yes</th>\n",
       "    </tr>\n",
       "    <tr>\n",
       "      <th>통화시간_2</th>\n",
       "      <th></th>\n",
       "      <th></th>\n",
       "    </tr>\n",
       "  </thead>\n",
       "  <tbody>\n",
       "    <tr>\n",
       "      <th>0</th>\n",
       "      <td>26324</td>\n",
       "      <td>1199</td>\n",
       "    </tr>\n",
       "    <tr>\n",
       "      <th>1</th>\n",
       "      <td>10224</td>\n",
       "      <td>3441</td>\n",
       "    </tr>\n",
       "  </tbody>\n",
       "</table>\n",
       "</div>"
      ],
      "text/plain": [
       "계약여부       no   yes\n",
       "통화시간_2             \n",
       "0       26324  1199\n",
       "1       10224  3441"
      ]
     },
     "metadata": {},
     "output_type": "display_data"
    },
    {
     "name": "stdout",
     "output_type": "stream",
     "text": [
      "chi-square test\n",
      "chisq : 3959.371\n",
      "p : 0.000000\n",
      "귀무가설이 맞을 때 기대값 : \n",
      "               0            1\n",
      "0  24422.419248  3100.580752\n",
      "1  12125.580752  1539.419248\n"
     ]
    }
   ],
   "source": [
    "call_result = pd.crosstab(df_tel.통화시간_2, df_tel.계약여부)\n",
    "display(call_result)\n",
    "\n",
    "from statsmodels.formula.api import ols\n",
    "import scipy.stats as stats\n",
    "chi, pval, dof, expected = stats.chi2_contingency(observed = call_result)\n",
    "print('chi-square test')\n",
    "print('chisq : {0:.3f}'.format(chi))\n",
    "print('p : {0:3f}'.format(pval))\n",
    "print(f'귀무가설이 맞을 때 기대값 : \\n {pd.DataFrame(expected)}')"
   ]
  },
  {
   "cell_type": "code",
   "execution_count": 26,
   "metadata": {},
   "outputs": [
    {
     "name": "stdout",
     "output_type": "stream",
     "text": [
      "oddratio: 7.389184844960785 \n",
      "p-value: 0.0\n"
     ]
    }
   ],
   "source": [
    "oddsratio, pvalue = stats.fisher_exact(call_result)\n",
    "print(\"oddratio:\", oddsratio, \"\\n\"\n",
    "        \"p-value:\", pvalue )"
   ]
  },
  {
   "cell_type": "code",
   "execution_count": 27,
   "metadata": {},
   "outputs": [
    {
     "data": {
      "text/html": [
       "<div>\n",
       "<style scoped>\n",
       "    .dataframe tbody tr th:only-of-type {\n",
       "        vertical-align: middle;\n",
       "    }\n",
       "\n",
       "    .dataframe tbody tr th {\n",
       "        vertical-align: top;\n",
       "    }\n",
       "\n",
       "    .dataframe thead th {\n",
       "        text-align: right;\n",
       "    }\n",
       "</style>\n",
       "<table border=\"1\" class=\"dataframe\">\n",
       "  <thead>\n",
       "    <tr style=\"text-align: right;\">\n",
       "      <th></th>\n",
       "      <th>연령</th>\n",
       "      <th>직업군</th>\n",
       "      <th>결혼여부</th>\n",
       "      <th>학력</th>\n",
       "      <th>신용카드소지여부</th>\n",
       "      <th>주택대출여부</th>\n",
       "      <th>개인대출여부</th>\n",
       "      <th>contact</th>\n",
       "      <th>통화시간</th>\n",
       "      <th>연락시도횟수</th>\n",
       "      <th>p_days</th>\n",
       "      <th>과거통화횟수</th>\n",
       "      <th>계약여부</th>\n",
       "      <th>연락일자</th>\n",
       "      <th>카드종류</th>\n",
       "      <th>재연락</th>\n",
       "      <th>통화시간_2</th>\n",
       "    </tr>\n",
       "  </thead>\n",
       "  <tbody>\n",
       "    <tr>\n",
       "      <th>0</th>\n",
       "      <td>56</td>\n",
       "      <td>주부</td>\n",
       "      <td>결혼</td>\n",
       "      <td>중졸</td>\n",
       "      <td>없음</td>\n",
       "      <td>없음</td>\n",
       "      <td>없음</td>\n",
       "      <td>유선전화</td>\n",
       "      <td>261</td>\n",
       "      <td>1</td>\n",
       "      <td>안함</td>\n",
       "      <td>0</td>\n",
       "      <td>no</td>\n",
       "      <td>2018-01-03</td>\n",
       "      <td>87</td>\n",
       "      <td>0</td>\n",
       "      <td>1</td>\n",
       "    </tr>\n",
       "    <tr>\n",
       "      <th>1</th>\n",
       "      <td>57</td>\n",
       "      <td>서비스종사자</td>\n",
       "      <td>결혼</td>\n",
       "      <td>전문학교</td>\n",
       "      <td>미확인</td>\n",
       "      <td>없음</td>\n",
       "      <td>없음</td>\n",
       "      <td>유선전화</td>\n",
       "      <td>149</td>\n",
       "      <td>1</td>\n",
       "      <td>안함</td>\n",
       "      <td>0</td>\n",
       "      <td>no</td>\n",
       "      <td>2018-01-03</td>\n",
       "      <td>88</td>\n",
       "      <td>0</td>\n",
       "      <td>0</td>\n",
       "    </tr>\n",
       "    <tr>\n",
       "      <th>2</th>\n",
       "      <td>37</td>\n",
       "      <td>서비스종사자</td>\n",
       "      <td>결혼</td>\n",
       "      <td>전문학교</td>\n",
       "      <td>없음</td>\n",
       "      <td>대출있음</td>\n",
       "      <td>없음</td>\n",
       "      <td>유선전화</td>\n",
       "      <td>226</td>\n",
       "      <td>1</td>\n",
       "      <td>안함</td>\n",
       "      <td>0</td>\n",
       "      <td>no</td>\n",
       "      <td>2018-01-03</td>\n",
       "      <td>89</td>\n",
       "      <td>0</td>\n",
       "      <td>0</td>\n",
       "    </tr>\n",
       "    <tr>\n",
       "      <th>3</th>\n",
       "      <td>40</td>\n",
       "      <td>회사원</td>\n",
       "      <td>결혼</td>\n",
       "      <td>검정고시</td>\n",
       "      <td>없음</td>\n",
       "      <td>없음</td>\n",
       "      <td>없음</td>\n",
       "      <td>유선전화</td>\n",
       "      <td>151</td>\n",
       "      <td>1</td>\n",
       "      <td>안함</td>\n",
       "      <td>0</td>\n",
       "      <td>no</td>\n",
       "      <td>2018-01-03</td>\n",
       "      <td>90</td>\n",
       "      <td>0</td>\n",
       "      <td>0</td>\n",
       "    </tr>\n",
       "    <tr>\n",
       "      <th>4</th>\n",
       "      <td>56</td>\n",
       "      <td>서비스종사자</td>\n",
       "      <td>결혼</td>\n",
       "      <td>전문학교</td>\n",
       "      <td>없음</td>\n",
       "      <td>없음</td>\n",
       "      <td>대출있음</td>\n",
       "      <td>유선전화</td>\n",
       "      <td>307</td>\n",
       "      <td>1</td>\n",
       "      <td>안함</td>\n",
       "      <td>0</td>\n",
       "      <td>no</td>\n",
       "      <td>2018-01-03</td>\n",
       "      <td>91</td>\n",
       "      <td>0</td>\n",
       "      <td>1</td>\n",
       "    </tr>\n",
       "  </tbody>\n",
       "</table>\n",
       "</div>"
      ],
      "text/plain": [
       "   연령     직업군 결혼여부    학력 신용카드소지여부 주택대출여부 개인대출여부 contact  통화시간  연락시도횟수 p_days  \\\n",
       "0  56      주부   결혼    중졸       없음     없음     없음    유선전화   261       1     안함   \n",
       "1  57  서비스종사자   결혼  전문학교      미확인     없음     없음    유선전화   149       1     안함   \n",
       "2  37  서비스종사자   결혼  전문학교       없음   대출있음     없음    유선전화   226       1     안함   \n",
       "3  40     회사원   결혼  검정고시       없음     없음     없음    유선전화   151       1     안함   \n",
       "4  56  서비스종사자   결혼  전문학교       없음     없음   대출있음    유선전화   307       1     안함   \n",
       "\n",
       "   과거통화횟수 계약여부        연락일자  카드종류  재연락  통화시간_2  \n",
       "0       0   no  2018-01-03    87    0       1  \n",
       "1       0   no  2018-01-03    88    0       0  \n",
       "2       0   no  2018-01-03    89    0       0  \n",
       "3       0   no  2018-01-03    90    0       0  \n",
       "4       0   no  2018-01-03    91    0       1  "
      ]
     },
     "execution_count": 27,
     "metadata": {},
     "output_type": "execute_result"
    }
   ],
   "source": [
    "df_tel.head()"
   ]
  },
  {
   "cell_type": "code",
   "execution_count": 28,
   "metadata": {},
   "outputs": [
    {
     "data": {
      "text/plain": [
       "2018-03-10    177\n",
       "2018-04-21    153\n",
       "2018-06-02    152\n",
       "2018-03-31    151\n",
       "2018-09-22    148\n",
       "             ... \n",
       "2019-02-05     58\n",
       "2018-09-09     55\n",
       "2018-04-15     54\n",
       "2018-10-15     53\n",
       "2018-01-01     40\n",
       "Name: 연락일자, Length: 424, dtype: int64"
      ]
     },
     "execution_count": 28,
     "metadata": {},
     "output_type": "execute_result"
    }
   ],
   "source": [
    "df_tel['연락일자'].value_counts()"
   ]
  },
  {
   "cell_type": "code",
   "execution_count": 29,
   "metadata": {},
   "outputs": [],
   "source": [
    "df_tel['통화시간_2'] = np.where(df_tel['통화시간'] < df_tel['통화시간'].mean(), 0, 1)"
   ]
  },
  {
   "cell_type": "code",
   "execution_count": 30,
   "metadata": {},
   "outputs": [
    {
     "data": {
      "text/plain": [
       "없음      33950\n",
       "대출있음     6248\n",
       "미확인       990\n",
       "Name: 개인대출여부, dtype: int64"
      ]
     },
     "execution_count": 30,
     "metadata": {},
     "output_type": "execute_result"
    }
   ],
   "source": [
    "df_tel['개인대출여부'].value_counts()"
   ]
  },
  {
   "cell_type": "code",
   "execution_count": 31,
   "metadata": {},
   "outputs": [],
   "source": [
    "# 대출 여부 파생 변수\n",
    "loan = []\n",
    "for i in range(len(df_tel)):\n",
    "    if df_tel['주택대출여부'][i] == '없음' and df_tel['개인대출여부'][i] == '없음':\n",
    "        loan.append(0)\n",
    "    elif df_tel['주택대출여부'][i] == '대출있음' and df_tel['개인대출여부'][i] == '대출있음':\n",
    "        loan.append(3)\n",
    "    elif df_tel['주택대출여부'][i] == '대출있음' or df_tel['개인대출여부'][i] == '대출있음':\n",
    "        loan.append(2)\n",
    "    elif df_tel['주택대출여부'][i] == '미확인':\n",
    "        loan.append(1)\n",
    "        \n",
    "df_tel['loan'] = loan"
   ]
  },
  {
   "cell_type": "code",
   "execution_count": 32,
   "metadata": {},
   "outputs": [
    {
     "data": {
      "text/plain": [
       "<AxesSubplot:xlabel='loan', ylabel='count'>"
      ]
     },
     "execution_count": 32,
     "metadata": {},
     "output_type": "execute_result"
    },
    {
     "data": {
      "image/png": "[encoded data removed]",
      "text/plain": [
       "<Figure size 432x288 with 1 Axes>"
      ]
     },
     "metadata": {
      "needs_background": "light"
     },
     "output_type": "display_data"
    }
   ],
   "source": [
    "sns.countplot('loan', data=df_tel, hue='계약여부')"
   ]
  },
  {
   "cell_type": "code",
   "execution_count": 33,
   "metadata": {},
   "outputs": [
    {
     "data": {
      "text/html": [
       "<div>\n",
       "<style scoped>\n",
       "    .dataframe tbody tr th:only-of-type {\n",
       "        vertical-align: middle;\n",
       "    }\n",
       "\n",
       "    .dataframe tbody tr th {\n",
       "        vertical-align: top;\n",
       "    }\n",
       "\n",
       "    .dataframe thead th {\n",
       "        text-align: right;\n",
       "    }\n",
       "</style>\n",
       "<table border=\"1\" class=\"dataframe\">\n",
       "  <thead>\n",
       "    <tr style=\"text-align: right;\">\n",
       "      <th></th>\n",
       "      <th>연령</th>\n",
       "      <th>직업군</th>\n",
       "      <th>결혼여부</th>\n",
       "      <th>학력</th>\n",
       "      <th>신용카드소지여부</th>\n",
       "      <th>주택대출여부</th>\n",
       "      <th>개인대출여부</th>\n",
       "      <th>contact</th>\n",
       "      <th>통화시간</th>\n",
       "      <th>연락시도횟수</th>\n",
       "      <th>p_days</th>\n",
       "      <th>과거통화횟수</th>\n",
       "      <th>계약여부</th>\n",
       "      <th>연락일자</th>\n",
       "      <th>카드종류</th>\n",
       "      <th>재연락</th>\n",
       "      <th>통화시간_2</th>\n",
       "      <th>loan</th>\n",
       "    </tr>\n",
       "  </thead>\n",
       "  <tbody>\n",
       "  </tbody>\n",
       "</table>\n",
       "</div>"
      ],
      "text/plain": [
       "Empty DataFrame\n",
       "Columns: [연령, 직업군, 결혼여부, 학력, 신용카드소지여부, 주택대출여부, 개인대출여부, contact, 통화시간, 연락시도횟수, p_days, 과거통화횟수, 계약여부, 연락일자, 카드종류, 재연락, 통화시간_2, loan]\n",
       "Index: []"
      ]
     },
     "execution_count": 33,
     "metadata": {},
     "output_type": "execute_result"
    }
   ],
   "source": [
    "df_tel[(df_tel['주택대출여부'] == '있음') & (df_tel['개인대출여부'] == '미확인')]"
   ]
  },
  {
   "cell_type": "code",
   "execution_count": 34,
   "metadata": {
    "scrolled": true
   },
   "outputs": [
    {
     "data": {
      "text/html": [
       "<div>\n",
       "<style scoped>\n",
       "    .dataframe tbody tr th:only-of-type {\n",
       "        vertical-align: middle;\n",
       "    }\n",
       "\n",
       "    .dataframe tbody tr th {\n",
       "        vertical-align: top;\n",
       "    }\n",
       "\n",
       "    .dataframe thead th {\n",
       "        text-align: right;\n",
       "    }\n",
       "</style>\n",
       "<table border=\"1\" class=\"dataframe\">\n",
       "  <thead>\n",
       "    <tr style=\"text-align: right;\">\n",
       "      <th></th>\n",
       "      <th>연령</th>\n",
       "      <th>직업군</th>\n",
       "      <th>결혼여부</th>\n",
       "      <th>학력</th>\n",
       "      <th>신용카드소지여부</th>\n",
       "      <th>주택대출여부</th>\n",
       "      <th>개인대출여부</th>\n",
       "      <th>contact</th>\n",
       "      <th>통화시간</th>\n",
       "      <th>연락시도횟수</th>\n",
       "      <th>p_days</th>\n",
       "      <th>과거통화횟수</th>\n",
       "      <th>계약여부</th>\n",
       "      <th>연락일자</th>\n",
       "      <th>카드종류</th>\n",
       "      <th>재연락</th>\n",
       "      <th>통화시간_2</th>\n",
       "      <th>loan</th>\n",
       "    </tr>\n",
       "  </thead>\n",
       "  <tbody>\n",
       "    <tr>\n",
       "      <th>29</th>\n",
       "      <td>55</td>\n",
       "      <td>미확인</td>\n",
       "      <td>결혼</td>\n",
       "      <td>대졸학사</td>\n",
       "      <td>미확인</td>\n",
       "      <td>미확인</td>\n",
       "      <td>미확인</td>\n",
       "      <td>유선전화</td>\n",
       "      <td>362</td>\n",
       "      <td>1</td>\n",
       "      <td>안함</td>\n",
       "      <td>0</td>\n",
       "      <td>no</td>\n",
       "      <td>2018-01-08</td>\n",
       "      <td>116</td>\n",
       "      <td>0</td>\n",
       "      <td>1</td>\n",
       "      <td>1</td>\n",
       "    </tr>\n",
       "    <tr>\n",
       "      <th>81</th>\n",
       "      <td>51</td>\n",
       "      <td>산업노동자</td>\n",
       "      <td>결혼</td>\n",
       "      <td>중졸</td>\n",
       "      <td>미확인</td>\n",
       "      <td>미확인</td>\n",
       "      <td>미확인</td>\n",
       "      <td>유선전화</td>\n",
       "      <td>212</td>\n",
       "      <td>1</td>\n",
       "      <td>안함</td>\n",
       "      <td>0</td>\n",
       "      <td>no</td>\n",
       "      <td>2018-01-21</td>\n",
       "      <td>168</td>\n",
       "      <td>0</td>\n",
       "      <td>0</td>\n",
       "      <td>1</td>\n",
       "    </tr>\n",
       "    <tr>\n",
       "      <th>261</th>\n",
       "      <td>27</td>\n",
       "      <td>산업노동자</td>\n",
       "      <td>미혼</td>\n",
       "      <td>검정고시</td>\n",
       "      <td>없음</td>\n",
       "      <td>미확인</td>\n",
       "      <td>미확인</td>\n",
       "      <td>유선전화</td>\n",
       "      <td>119</td>\n",
       "      <td>1</td>\n",
       "      <td>안함</td>\n",
       "      <td>0</td>\n",
       "      <td>no</td>\n",
       "      <td>2018-03-04</td>\n",
       "      <td>207</td>\n",
       "      <td>0</td>\n",
       "      <td>0</td>\n",
       "      <td>1</td>\n",
       "    </tr>\n",
       "    <tr>\n",
       "      <th>385</th>\n",
       "      <td>59</td>\n",
       "      <td>공무원</td>\n",
       "      <td>결혼</td>\n",
       "      <td>중졸</td>\n",
       "      <td>미확인</td>\n",
       "      <td>미확인</td>\n",
       "      <td>미확인</td>\n",
       "      <td>유선전화</td>\n",
       "      <td>437</td>\n",
       "      <td>1</td>\n",
       "      <td>안함</td>\n",
       "      <td>0</td>\n",
       "      <td>no</td>\n",
       "      <td>2018-04-01</td>\n",
       "      <td>190</td>\n",
       "      <td>0</td>\n",
       "      <td>1</td>\n",
       "      <td>1</td>\n",
       "    </tr>\n",
       "    <tr>\n",
       "      <th>401</th>\n",
       "      <td>48</td>\n",
       "      <td>서비스종사자</td>\n",
       "      <td>결혼</td>\n",
       "      <td>전문학교</td>\n",
       "      <td>미확인</td>\n",
       "      <td>미확인</td>\n",
       "      <td>미확인</td>\n",
       "      <td>유선전화</td>\n",
       "      <td>152</td>\n",
       "      <td>1</td>\n",
       "      <td>안함</td>\n",
       "      <td>0</td>\n",
       "      <td>no</td>\n",
       "      <td>2018-04-05</td>\n",
       "      <td>206</td>\n",
       "      <td>0</td>\n",
       "      <td>0</td>\n",
       "      <td>1</td>\n",
       "    </tr>\n",
       "    <tr>\n",
       "      <th>...</th>\n",
       "      <td>...</td>\n",
       "      <td>...</td>\n",
       "      <td>...</td>\n",
       "      <td>...</td>\n",
       "      <td>...</td>\n",
       "      <td>...</td>\n",
       "      <td>...</td>\n",
       "      <td>...</td>\n",
       "      <td>...</td>\n",
       "      <td>...</td>\n",
       "      <td>...</td>\n",
       "      <td>...</td>\n",
       "      <td>...</td>\n",
       "      <td>...</td>\n",
       "      <td>...</td>\n",
       "      <td>...</td>\n",
       "      <td>...</td>\n",
       "      <td>...</td>\n",
       "    </tr>\n",
       "    <tr>\n",
       "      <th>40990</th>\n",
       "      <td>31</td>\n",
       "      <td>회사원</td>\n",
       "      <td>미혼</td>\n",
       "      <td>대졸학사</td>\n",
       "      <td>없음</td>\n",
       "      <td>미확인</td>\n",
       "      <td>미확인</td>\n",
       "      <td>휴대폰</td>\n",
       "      <td>192</td>\n",
       "      <td>1</td>\n",
       "      <td>3</td>\n",
       "      <td>1</td>\n",
       "      <td>yes</td>\n",
       "      <td>2018-04-25</td>\n",
       "      <td>187</td>\n",
       "      <td>1</td>\n",
       "      <td>0</td>\n",
       "      <td>1</td>\n",
       "    </tr>\n",
       "    <tr>\n",
       "      <th>41014</th>\n",
       "      <td>31</td>\n",
       "      <td>기술자</td>\n",
       "      <td>미혼</td>\n",
       "      <td>석박사</td>\n",
       "      <td>없음</td>\n",
       "      <td>미확인</td>\n",
       "      <td>미확인</td>\n",
       "      <td>휴대폰</td>\n",
       "      <td>212</td>\n",
       "      <td>2</td>\n",
       "      <td>안함</td>\n",
       "      <td>0</td>\n",
       "      <td>yes</td>\n",
       "      <td>2018-04-27</td>\n",
       "      <td>211</td>\n",
       "      <td>0</td>\n",
       "      <td>0</td>\n",
       "      <td>1</td>\n",
       "    </tr>\n",
       "    <tr>\n",
       "      <th>41015</th>\n",
       "      <td>34</td>\n",
       "      <td>회사원</td>\n",
       "      <td>이혼</td>\n",
       "      <td>대졸학사</td>\n",
       "      <td>없음</td>\n",
       "      <td>미확인</td>\n",
       "      <td>미확인</td>\n",
       "      <td>휴대폰</td>\n",
       "      <td>256</td>\n",
       "      <td>2</td>\n",
       "      <td>안함</td>\n",
       "      <td>1</td>\n",
       "      <td>no</td>\n",
       "      <td>2018-04-27</td>\n",
       "      <td>212</td>\n",
       "      <td>0</td>\n",
       "      <td>0</td>\n",
       "      <td>1</td>\n",
       "    </tr>\n",
       "    <tr>\n",
       "      <th>41029</th>\n",
       "      <td>46</td>\n",
       "      <td>공무원</td>\n",
       "      <td>결혼</td>\n",
       "      <td>대졸학사</td>\n",
       "      <td>없음</td>\n",
       "      <td>미확인</td>\n",
       "      <td>미확인</td>\n",
       "      <td>휴대폰</td>\n",
       "      <td>83</td>\n",
       "      <td>2</td>\n",
       "      <td>12</td>\n",
       "      <td>2</td>\n",
       "      <td>no</td>\n",
       "      <td>2018-04-30</td>\n",
       "      <td>226</td>\n",
       "      <td>1</td>\n",
       "      <td>0</td>\n",
       "      <td>1</td>\n",
       "    </tr>\n",
       "    <tr>\n",
       "      <th>41115</th>\n",
       "      <td>42</td>\n",
       "      <td>서비스종사자</td>\n",
       "      <td>이혼</td>\n",
       "      <td>대졸학사</td>\n",
       "      <td>없음</td>\n",
       "      <td>미확인</td>\n",
       "      <td>미확인</td>\n",
       "      <td>휴대폰</td>\n",
       "      <td>262</td>\n",
       "      <td>1</td>\n",
       "      <td>안함</td>\n",
       "      <td>1</td>\n",
       "      <td>yes</td>\n",
       "      <td>2018-05-11</td>\n",
       "      <td>171</td>\n",
       "      <td>0</td>\n",
       "      <td>1</td>\n",
       "      <td>1</td>\n",
       "    </tr>\n",
       "  </tbody>\n",
       "</table>\n",
       "<p>990 rows × 18 columns</p>\n",
       "</div>"
      ],
      "text/plain": [
       "       연령     직업군 결혼여부    학력 신용카드소지여부 주택대출여부 개인대출여부 contact  통화시간  연락시도횟수  \\\n",
       "29     55     미확인   결혼  대졸학사      미확인    미확인    미확인    유선전화   362       1   \n",
       "81     51   산업노동자   결혼    중졸      미확인    미확인    미확인    유선전화   212       1   \n",
       "261    27   산업노동자   미혼  검정고시       없음    미확인    미확인    유선전화   119       1   \n",
       "385    59     공무원   결혼    중졸      미확인    미확인    미확인    유선전화   437       1   \n",
       "401    48  서비스종사자   결혼  전문학교      미확인    미확인    미확인    유선전화   152       1   \n",
       "...    ..     ...  ...   ...      ...    ...    ...     ...   ...     ...   \n",
       "40990  31     회사원   미혼  대졸학사       없음    미확인    미확인     휴대폰   192       1   \n",
       "41014  31     기술자   미혼   석박사       없음    미확인    미확인     휴대폰   212       2   \n",
       "41015  34     회사원   이혼  대졸학사       없음    미확인    미확인     휴대폰   256       2   \n",
       "41029  46     공무원   결혼  대졸학사       없음    미확인    미확인     휴대폰    83       2   \n",
       "41115  42  서비스종사자   이혼  대졸학사       없음    미확인    미확인     휴대폰   262       1   \n",
       "\n",
       "      p_days  과거통화횟수 계약여부        연락일자  카드종류  재연락  통화시간_2  loan  \n",
       "29        안함       0   no  2018-01-08   116    0       1     1  \n",
       "81        안함       0   no  2018-01-21   168    0       0     1  \n",
       "261       안함       0   no  2018-03-04   207    0       0     1  \n",
       "385       안함       0   no  2018-04-01   190    0       1     1  \n",
       "401       안함       0   no  2018-04-05   206    0       0     1  \n",
       "...      ...     ...  ...         ...   ...  ...     ...   ...  \n",
       "40990      3       1  yes  2018-04-25   187    1       0     1  \n",
       "41014     안함       0  yes  2018-04-27   211    0       0     1  \n",
       "41015     안함       1   no  2018-04-27   212    0       0     1  \n",
       "41029     12       2   no  2018-04-30   226    1       0     1  \n",
       "41115     안함       1  yes  2018-05-11   171    0       1     1  \n",
       "\n",
       "[990 rows x 18 columns]"
      ]
     },
     "execution_count": 34,
     "metadata": {},
     "output_type": "execute_result"
    }
   ],
   "source": [
    "df_tel[(df_tel['주택대출여부'] == '미확인') & (df_tel['개인대출여부'] == '미확인')]"
   ]
  },
  {
   "cell_type": "code",
   "execution_count": 35,
   "metadata": {},
   "outputs": [
    {
     "data": {
      "text/html": [
       "<div>\n",
       "<style scoped>\n",
       "    .dataframe tbody tr th:only-of-type {\n",
       "        vertical-align: middle;\n",
       "    }\n",
       "\n",
       "    .dataframe tbody tr th {\n",
       "        vertical-align: top;\n",
       "    }\n",
       "\n",
       "    .dataframe thead th {\n",
       "        text-align: right;\n",
       "    }\n",
       "</style>\n",
       "<table border=\"1\" class=\"dataframe\">\n",
       "  <thead>\n",
       "    <tr style=\"text-align: right;\">\n",
       "      <th>계약여부</th>\n",
       "      <th>no</th>\n",
       "      <th>yes</th>\n",
       "    </tr>\n",
       "    <tr>\n",
       "      <th>loan</th>\n",
       "      <th></th>\n",
       "      <th></th>\n",
       "    </tr>\n",
       "  </thead>\n",
       "  <tbody>\n",
       "    <tr>\n",
       "      <th>0</th>\n",
       "      <td>0.347504</td>\n",
       "      <td>0.042537</td>\n",
       "    </tr>\n",
       "    <tr>\n",
       "      <th>1</th>\n",
       "      <td>0.021438</td>\n",
       "      <td>0.002598</td>\n",
       "    </tr>\n",
       "    <tr>\n",
       "      <th>2</th>\n",
       "      <td>0.438720</td>\n",
       "      <td>0.057590</td>\n",
       "    </tr>\n",
       "    <tr>\n",
       "      <th>3</th>\n",
       "      <td>0.079683</td>\n",
       "      <td>0.009930</td>\n",
       "    </tr>\n",
       "  </tbody>\n",
       "</table>\n",
       "</div>"
      ],
      "text/plain": [
       "계약여부        no       yes\n",
       "loan                    \n",
       "0     0.347504  0.042537\n",
       "1     0.021438  0.002598\n",
       "2     0.438720  0.057590\n",
       "3     0.079683  0.009930"
      ]
     },
     "metadata": {},
     "output_type": "display_data"
    }
   ],
   "source": [
    "loan_result = pd.crosstab(df_tel.loan, df_tel.계약여부, normalize=True)\n",
    "display(loan_result)"
   ]
  },
  {
   "cell_type": "code",
   "execution_count": 36,
   "metadata": {
    "scrolled": true
   },
   "outputs": [
    {
     "name": "stdout",
     "output_type": "stream",
     "text": [
      "chi-square test\n",
      "chisq : 0.000\n",
      "p : 1.000000\n",
      "귀무가설이 맞을 때 기대값 : \n",
      "           0         1\n",
      "0  0.346101  0.043940\n",
      "1  0.021328  0.002708\n",
      "2  0.440398  0.055911\n",
      "3  0.079518  0.010095\n"
     ]
    }
   ],
   "source": [
    "chi, pval, dof, expected = stats.chi2_contingency(observed = loan_result)\n",
    "print('chi-square test')\n",
    "print('chisq : {0:.3f}'.format(chi))\n",
    "print('p : {0:3f}'.format(pval))\n",
    "print(f'귀무가설이 맞을 때 기대값 : \\n {pd.DataFrame(expected)}')"
   ]
  },
  {
   "cell_type": "code",
   "execution_count": 37,
   "metadata": {},
   "outputs": [],
   "source": [
    "# df_card['옵션'].str.contains().value_counts()"
   ]
  },
  {
   "cell_type": "code",
   "execution_count": 38,
   "metadata": {
    "scrolled": true
   },
   "outputs": [
    {
     "data": {
      "text/html": [
       "<div>\n",
       "<style scoped>\n",
       "    .dataframe tbody tr th:only-of-type {\n",
       "        vertical-align: middle;\n",
       "    }\n",
       "\n",
       "    .dataframe tbody tr th {\n",
       "        vertical-align: top;\n",
       "    }\n",
       "\n",
       "    .dataframe thead th {\n",
       "        text-align: right;\n",
       "    }\n",
       "</style>\n",
       "<table border=\"1\" class=\"dataframe\">\n",
       "  <thead>\n",
       "    <tr style=\"text-align: right;\">\n",
       "      <th></th>\n",
       "      <th>사용일자</th>\n",
       "      <th>지역</th>\n",
       "      <th>소비처</th>\n",
       "      <th>주소</th>\n",
       "      <th>소비처업종</th>\n",
       "      <th>성별</th>\n",
       "      <th>연령</th>\n",
       "      <th>사용횟수</th>\n",
       "      <th>사용금액</th>\n",
       "      <th>사용카드</th>\n",
       "    </tr>\n",
       "  </thead>\n",
       "  <tbody>\n",
       "    <tr>\n",
       "      <th>0</th>\n",
       "      <td>20180401</td>\n",
       "      <td>종로구</td>\n",
       "      <td>상계2동</td>\n",
       "      <td>종로구 상계2동</td>\n",
       "      <td>자동차정비</td>\n",
       "      <td>여성</td>\n",
       "      <td>42</td>\n",
       "      <td>3</td>\n",
       "      <td>56</td>\n",
       "      <td>82</td>\n",
       "    </tr>\n",
       "    <tr>\n",
       "      <th>1</th>\n",
       "      <td>20180401</td>\n",
       "      <td>종로구</td>\n",
       "      <td>혜화동</td>\n",
       "      <td>종로구 혜화동</td>\n",
       "      <td>유통업</td>\n",
       "      <td>여성</td>\n",
       "      <td>43</td>\n",
       "      <td>2</td>\n",
       "      <td>50</td>\n",
       "      <td>61</td>\n",
       "    </tr>\n",
       "    <tr>\n",
       "      <th>2</th>\n",
       "      <td>20180401</td>\n",
       "      <td>노원구</td>\n",
       "      <td>상계6,7동</td>\n",
       "      <td>노원구 상계6,7동</td>\n",
       "      <td>레저업소</td>\n",
       "      <td>남성</td>\n",
       "      <td>50</td>\n",
       "      <td>2</td>\n",
       "      <td>59</td>\n",
       "      <td>140</td>\n",
       "    </tr>\n",
       "    <tr>\n",
       "      <th>3</th>\n",
       "      <td>20180401</td>\n",
       "      <td>종로구</td>\n",
       "      <td>종로5,6가동</td>\n",
       "      <td>종로구 종로5,6가동</td>\n",
       "      <td>레저업소</td>\n",
       "      <td>남성</td>\n",
       "      <td>45</td>\n",
       "      <td>3</td>\n",
       "      <td>56</td>\n",
       "      <td>104</td>\n",
       "    </tr>\n",
       "    <tr>\n",
       "      <th>4</th>\n",
       "      <td>20180401</td>\n",
       "      <td>종로구</td>\n",
       "      <td>중계4동</td>\n",
       "      <td>종로구 중계4동</td>\n",
       "      <td>음료식품</td>\n",
       "      <td>여성</td>\n",
       "      <td>38</td>\n",
       "      <td>2</td>\n",
       "      <td>57</td>\n",
       "      <td>103</td>\n",
       "    </tr>\n",
       "    <tr>\n",
       "      <th>...</th>\n",
       "      <td>...</td>\n",
       "      <td>...</td>\n",
       "      <td>...</td>\n",
       "      <td>...</td>\n",
       "      <td>...</td>\n",
       "      <td>...</td>\n",
       "      <td>...</td>\n",
       "      <td>...</td>\n",
       "      <td>...</td>\n",
       "      <td>...</td>\n",
       "    </tr>\n",
       "    <tr>\n",
       "      <th>187517</th>\n",
       "      <td>20190228</td>\n",
       "      <td>노원구</td>\n",
       "      <td>상계10동</td>\n",
       "      <td>노원구 상계10동</td>\n",
       "      <td>서적문구</td>\n",
       "      <td>여성</td>\n",
       "      <td>30</td>\n",
       "      <td>5</td>\n",
       "      <td>56</td>\n",
       "      <td>212</td>\n",
       "    </tr>\n",
       "    <tr>\n",
       "      <th>187518</th>\n",
       "      <td>20190228</td>\n",
       "      <td>노원구</td>\n",
       "      <td>상계10동</td>\n",
       "      <td>노원구 상계10동</td>\n",
       "      <td>의료기관</td>\n",
       "      <td>남성</td>\n",
       "      <td>60</td>\n",
       "      <td>5</td>\n",
       "      <td>80</td>\n",
       "      <td>4</td>\n",
       "    </tr>\n",
       "    <tr>\n",
       "      <th>187519</th>\n",
       "      <td>20190228</td>\n",
       "      <td>노원구</td>\n",
       "      <td>상계10동</td>\n",
       "      <td>노원구 상계10동</td>\n",
       "      <td>요식업소</td>\n",
       "      <td>여성</td>\n",
       "      <td>60</td>\n",
       "      <td>9</td>\n",
       "      <td>246</td>\n",
       "      <td>163</td>\n",
       "    </tr>\n",
       "    <tr>\n",
       "      <th>187520</th>\n",
       "      <td>20190228</td>\n",
       "      <td>노원구</td>\n",
       "      <td>상계10동</td>\n",
       "      <td>노원구 상계10동</td>\n",
       "      <td>요식업소</td>\n",
       "      <td>남성</td>\n",
       "      <td>55</td>\n",
       "      <td>18</td>\n",
       "      <td>203</td>\n",
       "      <td>164</td>\n",
       "    </tr>\n",
       "    <tr>\n",
       "      <th>187521</th>\n",
       "      <td>20190228</td>\n",
       "      <td>노원구</td>\n",
       "      <td>상계10동</td>\n",
       "      <td>노원구 상계10동</td>\n",
       "      <td>요식업소</td>\n",
       "      <td>남성</td>\n",
       "      <td>65</td>\n",
       "      <td>18</td>\n",
       "      <td>423</td>\n",
       "      <td>165</td>\n",
       "    </tr>\n",
       "  </tbody>\n",
       "</table>\n",
       "<p>187522 rows × 10 columns</p>\n",
       "</div>"
      ],
      "text/plain": [
       "            사용일자   지역      소비처           주소  소비처업종  성별  연령  사용횟수  사용금액  사용카드\n",
       "0       20180401  종로구     상계2동     종로구 상계2동  자동차정비  여성  42     3    56    82\n",
       "1       20180401  종로구      혜화동      종로구 혜화동    유통업  여성  43     2    50    61\n",
       "2       20180401  노원구   상계6,7동   노원구 상계6,7동   레저업소  남성  50     2    59   140\n",
       "3       20180401  종로구  종로5,6가동  종로구 종로5,6가동   레저업소  남성  45     3    56   104\n",
       "4       20180401  종로구     중계4동     종로구 중계4동   음료식품  여성  38     2    57   103\n",
       "...          ...  ...      ...          ...    ...  ..  ..   ...   ...   ...\n",
       "187517  20190228  노원구    상계10동    노원구 상계10동   서적문구  여성  30     5    56   212\n",
       "187518  20190228  노원구    상계10동    노원구 상계10동   의료기관  남성  60     5    80     4\n",
       "187519  20190228  노원구    상계10동    노원구 상계10동   요식업소  여성  60     9   246   163\n",
       "187520  20190228  노원구    상계10동    노원구 상계10동   요식업소  남성  55    18   203   164\n",
       "187521  20190228  노원구    상계10동    노원구 상계10동   요식업소  남성  65    18   423   165\n",
       "\n",
       "[187522 rows x 10 columns]"
      ]
     },
     "execution_count": 38,
     "metadata": {},
     "output_type": "execute_result"
    }
   ],
   "source": [
    "df_spend"
   ]
  },
  {
   "cell_type": "code",
   "execution_count": 39,
   "metadata": {},
   "outputs": [],
   "source": [
    "# df['SCALE'].value_counts().plot.pie(autopct='%.2f %%')"
   ]
  },
  {
   "cell_type": "code",
   "execution_count": 40,
   "metadata": {},
   "outputs": [],
   "source": [
    "df_card = pd.read_csv('Card_Data_1(20210904_220136).csv', encoding='cp949')\n",
    "df_card.rename(columns={'Card_ID' : '카드종류'}, inplace=True)\n",
    "df_card.drop('Unnamed: 0', axis=1, inplace=True)"
   ]
  },
  {
   "cell_type": "code",
   "execution_count": 41,
   "metadata": {
    "scrolled": true
   },
   "outputs": [
    {
     "data": {
      "text/html": [
       "<div>\n",
       "<style scoped>\n",
       "    .dataframe tbody tr th:only-of-type {\n",
       "        vertical-align: middle;\n",
       "    }\n",
       "\n",
       "    .dataframe tbody tr th {\n",
       "        vertical-align: top;\n",
       "    }\n",
       "\n",
       "    .dataframe thead th {\n",
       "        text-align: right;\n",
       "    }\n",
       "</style>\n",
       "<table border=\"1\" class=\"dataframe\">\n",
       "  <thead>\n",
       "    <tr style=\"text-align: right;\">\n",
       "      <th></th>\n",
       "      <th>카드종류</th>\n",
       "      <th>분류</th>\n",
       "      <th>혜택분야</th>\n",
       "      <th>소개</th>\n",
       "      <th>연회비</th>\n",
       "      <th>옵션</th>\n",
       "      <th>카드명</th>\n",
       "      <th>가족카드여부</th>\n",
       "    </tr>\n",
       "  </thead>\n",
       "  <tbody>\n",
       "    <tr>\n",
       "      <th>0</th>\n",
       "      <td>0</td>\n",
       "      <td>체크카드</td>\n",
       "      <td>life</td>\n",
       "      <td>한국야쿠르트와 GS리테일의 특별한 혜택 !</td>\n",
       "      <td>없음</td>\n",
       "      <td>후불교통가능, IC기능 탑재, 가족카드 발급 불가</td>\n",
       "      <td>한국야쿠르트 팝 S카드 체크</td>\n",
       "      <td>0</td>\n",
       "    </tr>\n",
       "    <tr>\n",
       "      <th>1</th>\n",
       "      <td>1</td>\n",
       "      <td>체크카드</td>\n",
       "      <td>life</td>\n",
       "      <td>카카오페이로 간편하게 결제하고 혜택까지 플러스</td>\n",
       "      <td>없음</td>\n",
       "      <td>후불교통가능, IC기능 탑재, 가족카드 발급 불가</td>\n",
       "      <td>카카오페이 S 체크카드(무지)</td>\n",
       "      <td>0</td>\n",
       "    </tr>\n",
       "    <tr>\n",
       "      <th>2</th>\n",
       "      <td>2</td>\n",
       "      <td>체크카드</td>\n",
       "      <td>life</td>\n",
       "      <td>속 깊은 디지털 라이프!</td>\n",
       "      <td>없음</td>\n",
       "      <td>후불교통가능, IC기능 탑재, 가족카드 가능</td>\n",
       "      <td>S카드 Deep Dream 체크</td>\n",
       "      <td>1</td>\n",
       "    </tr>\n",
       "    <tr>\n",
       "      <th>3</th>\n",
       "      <td>3</td>\n",
       "      <td>체크카드</td>\n",
       "      <td>life</td>\n",
       "      <td>난치병 아이들의 꿈을 이뤄주는 기부카드</td>\n",
       "      <td>없음</td>\n",
       "      <td>후불교통가능, IC기능 탑재, 가족카드 발급 불가</td>\n",
       "      <td>S카드 JYP Fan’s EDM 체크</td>\n",
       "      <td>0</td>\n",
       "    </tr>\n",
       "    <tr>\n",
       "      <th>4</th>\n",
       "      <td>4</td>\n",
       "      <td>체크카드</td>\n",
       "      <td>life</td>\n",
       "      <td>미니언즈가 다 드림!</td>\n",
       "      <td>없음</td>\n",
       "      <td>후불교통가능, IC기능 탑재, 가족카드 발급 불가</td>\n",
       "      <td>S카드 Deep Dream 체크\\n(미니언즈)</td>\n",
       "      <td>0</td>\n",
       "    </tr>\n",
       "  </tbody>\n",
       "</table>\n",
       "</div>"
      ],
      "text/plain": [
       "   카드종류    분류  혜택분야                         소개 연회비  \\\n",
       "0     0  체크카드  life    한국야쿠르트와 GS리테일의 특별한 혜택 !  없음   \n",
       "1     1  체크카드  life  카카오페이로 간편하게 결제하고 혜택까지 플러스  없음   \n",
       "2     2  체크카드  life              속 깊은 디지털 라이프!  없음   \n",
       "3     3  체크카드  life      난치병 아이들의 꿈을 이뤄주는 기부카드  없음   \n",
       "4     4  체크카드  life                미니언즈가 다 드림!  없음   \n",
       "\n",
       "                            옵션                        카드명  가족카드여부  \n",
       "0  후불교통가능, IC기능 탑재, 가족카드 발급 불가            한국야쿠르트 팝 S카드 체크       0  \n",
       "1  후불교통가능, IC기능 탑재, 가족카드 발급 불가           카카오페이 S 체크카드(무지)       0  \n",
       "2     후불교통가능, IC기능 탑재, 가족카드 가능          S카드 Deep Dream 체크       1  \n",
       "3  후불교통가능, IC기능 탑재, 가족카드 발급 불가       S카드 JYP Fan’s EDM 체크       0  \n",
       "4  후불교통가능, IC기능 탑재, 가족카드 발급 불가  S카드 Deep Dream 체크\\n(미니언즈)       0  "
      ]
     },
     "execution_count": 41,
     "metadata": {},
     "output_type": "execute_result"
    }
   ],
   "source": [
    "df_card.head()"
   ]
  },
  {
   "cell_type": "code",
   "execution_count": 42,
   "metadata": {},
   "outputs": [],
   "source": [
    "df_card_tel = pd.merge(df_tel, df_card, on = '카드종류')"
   ]
  },
  {
   "cell_type": "code",
   "execution_count": 43,
   "metadata": {
    "scrolled": true
   },
   "outputs": [
    {
     "data": {
      "text/plain": [
       "있음    168\n",
       "없음     84\n",
       "면제     11\n",
       "Name: 연회비, dtype: int64"
      ]
     },
     "execution_count": 43,
     "metadata": {},
     "output_type": "execute_result"
    }
   ],
   "source": [
    "df_card['연회비'].value_counts()"
   ]
  },
  {
   "cell_type": "code",
   "execution_count": 44,
   "metadata": {
    "scrolled": false
   },
   "outputs": [
    {
     "data": {
      "text/plain": [
       "Index(['연령', '직업군', '결혼여부', '학력', '신용카드소지여부', '주택대출여부', '개인대출여부', 'contact',\n",
       "       '통화시간', '연락시도횟수', 'p_days', '과거통화횟수', '계약여부', '연락일자', '카드종류', '재연락',\n",
       "       '통화시간_2', 'loan', '분류', '혜택분야', '소개', '연회비', '옵션', '카드명', '가족카드여부'],\n",
       "      dtype='object')"
      ]
     },
     "execution_count": 44,
     "metadata": {},
     "output_type": "execute_result"
    }
   ],
   "source": [
    "df_card_tel.columns"
   ]
  },
  {
   "cell_type": "code",
   "execution_count": 45,
   "metadata": {
    "scrolled": true
   },
   "outputs": [
    {
     "data": {
      "text/plain": [
       "있음    41188\n",
       "Name: 연회비, dtype: int64"
      ]
     },
     "execution_count": 45,
     "metadata": {},
     "output_type": "execute_result"
    }
   ],
   "source": [
    "df_card_tel['연회비'].value_counts()"
   ]
  },
  {
   "cell_type": "code",
   "execution_count": 46,
   "metadata": {},
   "outputs": [
    {
     "data": {
      "text/plain": [
       "<AxesSubplot:xlabel='가족카드여부', ylabel='count'>"
      ]
     },
     "execution_count": 46,
     "metadata": {},
     "output_type": "execute_result"
    },
    {
     "data": {
      "image/png": "[encoded data removed]",
      "text/plain": [
       "<Figure size 1080x720 with 2 Axes>"
      ]
     },
     "metadata": {
      "needs_background": "light"
     },
     "output_type": "display_data"
    }
   ],
   "source": [
    "plt.figure(figsize=(15,10))\n",
    "plt.subplot(2,2,1)\n",
    "sns.countplot('연회비', data=df_card_tel, hue='계약여부')\n",
    "plt.subplot(2,2,2)\n",
    "sns.countplot('가족카드여부', data=df_card_tel, hue='계약여부')"
   ]
  },
  {
   "cell_type": "code",
   "execution_count": 47,
   "metadata": {},
   "outputs": [
    {
     "data": {
      "text/plain": [
       "<AxesSubplot:xlabel='가족카드여부', ylabel='count'>"
      ]
     },
     "execution_count": 47,
     "metadata": {},
     "output_type": "execute_result"
    },
    {
     "data": {
      "image/png": "[encoded data removed]",
      "text/plain": [
       "<Figure size 432x288 with 1 Axes>"
      ]
     },
     "metadata": {
      "needs_background": "light"
     },
     "output_type": "display_data"
    }
   ],
   "source": [
    "sns.countplot('가족카드여부', data=df_card_tel, hue='계약여부')"
   ]
  },
  {
   "cell_type": "code",
   "execution_count": 48,
   "metadata": {},
   "outputs": [
    {
     "data": {
      "text/html": [
       "<div>\n",
       "<style scoped>\n",
       "    .dataframe tbody tr th:only-of-type {\n",
       "        vertical-align: middle;\n",
       "    }\n",
       "\n",
       "    .dataframe tbody tr th {\n",
       "        vertical-align: top;\n",
       "    }\n",
       "\n",
       "    .dataframe thead th {\n",
       "        text-align: right;\n",
       "    }\n",
       "</style>\n",
       "<table border=\"1\" class=\"dataframe\">\n",
       "  <thead>\n",
       "    <tr style=\"text-align: right;\">\n",
       "      <th></th>\n",
       "      <th>연령</th>\n",
       "      <th>직업군</th>\n",
       "      <th>결혼여부</th>\n",
       "      <th>학력</th>\n",
       "      <th>신용카드소지여부</th>\n",
       "      <th>주택대출여부</th>\n",
       "      <th>개인대출여부</th>\n",
       "      <th>contact</th>\n",
       "      <th>통화시간</th>\n",
       "      <th>연락시도횟수</th>\n",
       "      <th>...</th>\n",
       "      <th>재연락</th>\n",
       "      <th>통화시간_2</th>\n",
       "      <th>loan</th>\n",
       "      <th>분류</th>\n",
       "      <th>혜택분야</th>\n",
       "      <th>소개</th>\n",
       "      <th>연회비</th>\n",
       "      <th>옵션</th>\n",
       "      <th>카드명</th>\n",
       "      <th>가족카드여부</th>\n",
       "    </tr>\n",
       "  </thead>\n",
       "  <tbody>\n",
       "    <tr>\n",
       "      <th>0</th>\n",
       "      <td>56</td>\n",
       "      <td>주부</td>\n",
       "      <td>결혼</td>\n",
       "      <td>중졸</td>\n",
       "      <td>없음</td>\n",
       "      <td>없음</td>\n",
       "      <td>없음</td>\n",
       "      <td>유선전화</td>\n",
       "      <td>261</td>\n",
       "      <td>1</td>\n",
       "      <td>...</td>\n",
       "      <td>0</td>\n",
       "      <td>1</td>\n",
       "      <td>0</td>\n",
       "      <td>신용카드</td>\n",
       "      <td>life</td>\n",
       "      <td>매일, 매주, 매월, 매년 나에게 찾아오는 선물</td>\n",
       "      <td>있음</td>\n",
       "      <td>후불교통가능, IC기능 탑재, 가족카드 가능</td>\n",
       "      <td>S카드 D-day</td>\n",
       "      <td>1</td>\n",
       "    </tr>\n",
       "    <tr>\n",
       "      <th>1</th>\n",
       "      <td>56</td>\n",
       "      <td>공무원</td>\n",
       "      <td>결혼</td>\n",
       "      <td>미확인</td>\n",
       "      <td>없음</td>\n",
       "      <td>대출있음</td>\n",
       "      <td>없음</td>\n",
       "      <td>유선전화</td>\n",
       "      <td>70</td>\n",
       "      <td>1</td>\n",
       "      <td>...</td>\n",
       "      <td>0</td>\n",
       "      <td>0</td>\n",
       "      <td>2</td>\n",
       "      <td>신용카드</td>\n",
       "      <td>life</td>\n",
       "      <td>매일, 매주, 매월, 매년 나에게 찾아오는 선물</td>\n",
       "      <td>있음</td>\n",
       "      <td>후불교통가능, IC기능 탑재, 가족카드 가능</td>\n",
       "      <td>S카드 D-day</td>\n",
       "      <td>1</td>\n",
       "    </tr>\n",
       "    <tr>\n",
       "      <th>2</th>\n",
       "      <td>53</td>\n",
       "      <td>회사원</td>\n",
       "      <td>결혼</td>\n",
       "      <td>고졸</td>\n",
       "      <td>없음</td>\n",
       "      <td>없음</td>\n",
       "      <td>없음</td>\n",
       "      <td>유선전화</td>\n",
       "      <td>189</td>\n",
       "      <td>3</td>\n",
       "      <td>...</td>\n",
       "      <td>0</td>\n",
       "      <td>0</td>\n",
       "      <td>0</td>\n",
       "      <td>신용카드</td>\n",
       "      <td>life</td>\n",
       "      <td>매일, 매주, 매월, 매년 나에게 찾아오는 선물</td>\n",
       "      <td>있음</td>\n",
       "      <td>후불교통가능, IC기능 탑재, 가족카드 가능</td>\n",
       "      <td>S카드 D-day</td>\n",
       "      <td>1</td>\n",
       "    </tr>\n",
       "    <tr>\n",
       "      <th>3</th>\n",
       "      <td>39</td>\n",
       "      <td>공무원</td>\n",
       "      <td>결혼</td>\n",
       "      <td>대졸학사</td>\n",
       "      <td>미확인</td>\n",
       "      <td>없음</td>\n",
       "      <td>없음</td>\n",
       "      <td>유선전화</td>\n",
       "      <td>496</td>\n",
       "      <td>3</td>\n",
       "      <td>...</td>\n",
       "      <td>0</td>\n",
       "      <td>1</td>\n",
       "      <td>0</td>\n",
       "      <td>신용카드</td>\n",
       "      <td>life</td>\n",
       "      <td>매일, 매주, 매월, 매년 나에게 찾아오는 선물</td>\n",
       "      <td>있음</td>\n",
       "      <td>후불교통가능, IC기능 탑재, 가족카드 가능</td>\n",
       "      <td>S카드 D-day</td>\n",
       "      <td>1</td>\n",
       "    </tr>\n",
       "    <tr>\n",
       "      <th>4</th>\n",
       "      <td>35</td>\n",
       "      <td>회사원</td>\n",
       "      <td>이혼</td>\n",
       "      <td>대졸학사</td>\n",
       "      <td>없음</td>\n",
       "      <td>미확인</td>\n",
       "      <td>미확인</td>\n",
       "      <td>유선전화</td>\n",
       "      <td>179</td>\n",
       "      <td>1</td>\n",
       "      <td>...</td>\n",
       "      <td>0</td>\n",
       "      <td>0</td>\n",
       "      <td>1</td>\n",
       "      <td>신용카드</td>\n",
       "      <td>life</td>\n",
       "      <td>매일, 매주, 매월, 매년 나에게 찾아오는 선물</td>\n",
       "      <td>있음</td>\n",
       "      <td>후불교통가능, IC기능 탑재, 가족카드 가능</td>\n",
       "      <td>S카드 D-day</td>\n",
       "      <td>1</td>\n",
       "    </tr>\n",
       "  </tbody>\n",
       "</table>\n",
       "<p>5 rows × 25 columns</p>\n",
       "</div>"
      ],
      "text/plain": [
       "   연령  직업군 결혼여부    학력 신용카드소지여부 주택대출여부 개인대출여부 contact  통화시간  연락시도횟수  ... 재연락  \\\n",
       "0  56   주부   결혼    중졸       없음     없음     없음    유선전화   261       1  ...   0   \n",
       "1  56  공무원   결혼   미확인       없음   대출있음     없음    유선전화    70       1  ...   0   \n",
       "2  53  회사원   결혼    고졸       없음     없음     없음    유선전화   189       3  ...   0   \n",
       "3  39  공무원   결혼  대졸학사      미확인     없음     없음    유선전화   496       3  ...   0   \n",
       "4  35  회사원   이혼  대졸학사       없음    미확인    미확인    유선전화   179       1  ...   0   \n",
       "\n",
       "   통화시간_2 loan    분류  혜택분야                          소개  연회비  \\\n",
       "0       1    0  신용카드  life  매일, 매주, 매월, 매년 나에게 찾아오는 선물   있음   \n",
       "1       0    2  신용카드  life  매일, 매주, 매월, 매년 나에게 찾아오는 선물   있음   \n",
       "2       0    0  신용카드  life  매일, 매주, 매월, 매년 나에게 찾아오는 선물   있음   \n",
       "3       1    0  신용카드  life  매일, 매주, 매월, 매년 나에게 찾아오는 선물   있음   \n",
       "4       0    1  신용카드  life  매일, 매주, 매월, 매년 나에게 찾아오는 선물   있음   \n",
       "\n",
       "                         옵션        카드명 가족카드여부  \n",
       "0  후불교통가능, IC기능 탑재, 가족카드 가능  S카드 D-day      1  \n",
       "1  후불교통가능, IC기능 탑재, 가족카드 가능  S카드 D-day      1  \n",
       "2  후불교통가능, IC기능 탑재, 가족카드 가능  S카드 D-day      1  \n",
       "3  후불교통가능, IC기능 탑재, 가족카드 가능  S카드 D-day      1  \n",
       "4  후불교통가능, IC기능 탑재, 가족카드 가능  S카드 D-day      1  \n",
       "\n",
       "[5 rows x 25 columns]"
      ]
     },
     "execution_count": 48,
     "metadata": {},
     "output_type": "execute_result"
    }
   ],
   "source": [
    "df_card_tel.head()"
   ]
  },
  {
   "cell_type": "code",
   "execution_count": 49,
   "metadata": {},
   "outputs": [
    {
     "data": {
      "text/html": [
       "<div>\n",
       "<style scoped>\n",
       "    .dataframe tbody tr th:only-of-type {\n",
       "        vertical-align: middle;\n",
       "    }\n",
       "\n",
       "    .dataframe tbody tr th {\n",
       "        vertical-align: top;\n",
       "    }\n",
       "\n",
       "    .dataframe thead th {\n",
       "        text-align: right;\n",
       "    }\n",
       "</style>\n",
       "<table border=\"1\" class=\"dataframe\">\n",
       "  <thead>\n",
       "    <tr style=\"text-align: right;\">\n",
       "      <th></th>\n",
       "      <th>사용일자</th>\n",
       "      <th>지역</th>\n",
       "      <th>소비처</th>\n",
       "      <th>주소</th>\n",
       "      <th>소비처업종</th>\n",
       "      <th>성별</th>\n",
       "      <th>연령</th>\n",
       "      <th>사용횟수</th>\n",
       "      <th>사용금액</th>\n",
       "      <th>사용카드</th>\n",
       "    </tr>\n",
       "  </thead>\n",
       "  <tbody>\n",
       "    <tr>\n",
       "      <th>0</th>\n",
       "      <td>20180401</td>\n",
       "      <td>종로구</td>\n",
       "      <td>상계2동</td>\n",
       "      <td>종로구 상계2동</td>\n",
       "      <td>자동차정비</td>\n",
       "      <td>여성</td>\n",
       "      <td>42</td>\n",
       "      <td>3</td>\n",
       "      <td>56</td>\n",
       "      <td>82</td>\n",
       "    </tr>\n",
       "    <tr>\n",
       "      <th>1</th>\n",
       "      <td>20180401</td>\n",
       "      <td>종로구</td>\n",
       "      <td>혜화동</td>\n",
       "      <td>종로구 혜화동</td>\n",
       "      <td>유통업</td>\n",
       "      <td>여성</td>\n",
       "      <td>43</td>\n",
       "      <td>2</td>\n",
       "      <td>50</td>\n",
       "      <td>61</td>\n",
       "    </tr>\n",
       "    <tr>\n",
       "      <th>2</th>\n",
       "      <td>20180401</td>\n",
       "      <td>노원구</td>\n",
       "      <td>상계6,7동</td>\n",
       "      <td>노원구 상계6,7동</td>\n",
       "      <td>레저업소</td>\n",
       "      <td>남성</td>\n",
       "      <td>50</td>\n",
       "      <td>2</td>\n",
       "      <td>59</td>\n",
       "      <td>140</td>\n",
       "    </tr>\n",
       "    <tr>\n",
       "      <th>3</th>\n",
       "      <td>20180401</td>\n",
       "      <td>종로구</td>\n",
       "      <td>종로5,6가동</td>\n",
       "      <td>종로구 종로5,6가동</td>\n",
       "      <td>레저업소</td>\n",
       "      <td>남성</td>\n",
       "      <td>45</td>\n",
       "      <td>3</td>\n",
       "      <td>56</td>\n",
       "      <td>104</td>\n",
       "    </tr>\n",
       "    <tr>\n",
       "      <th>4</th>\n",
       "      <td>20180401</td>\n",
       "      <td>종로구</td>\n",
       "      <td>중계4동</td>\n",
       "      <td>종로구 중계4동</td>\n",
       "      <td>음료식품</td>\n",
       "      <td>여성</td>\n",
       "      <td>38</td>\n",
       "      <td>2</td>\n",
       "      <td>57</td>\n",
       "      <td>103</td>\n",
       "    </tr>\n",
       "  </tbody>\n",
       "</table>\n",
       "</div>"
      ],
      "text/plain": [
       "       사용일자   지역      소비처           주소  소비처업종  성별  연령  사용횟수  사용금액  사용카드\n",
       "0  20180401  종로구     상계2동     종로구 상계2동  자동차정비  여성  42     3    56    82\n",
       "1  20180401  종로구      혜화동      종로구 혜화동    유통업  여성  43     2    50    61\n",
       "2  20180401  노원구   상계6,7동   노원구 상계6,7동   레저업소  남성  50     2    59   140\n",
       "3  20180401  종로구  종로5,6가동  종로구 종로5,6가동   레저업소  남성  45     3    56   104\n",
       "4  20180401  종로구     중계4동     종로구 중계4동   음료식품  여성  38     2    57   103"
      ]
     },
     "execution_count": 49,
     "metadata": {},
     "output_type": "execute_result"
    }
   ],
   "source": [
    "df_spend.head()"
   ]
  },
  {
   "cell_type": "code",
   "execution_count": 50,
   "metadata": {
    "scrolled": false
   },
   "outputs": [
    {
     "data": {
      "text/plain": [
       "대명 S카드 Big plus                293\n",
       "S카드 Deep Making                293\n",
       "S카드 Love                       293\n",
       "S카드 Deep Dream                 293\n",
       "S카드 Deep Taking                293\n",
       "                              ... \n",
       "제주항공 Refresh Point S카드         292\n",
       "S카드 Deep On Platinum+          292\n",
       "S카드 아메리칸익스프레스                  292\n",
       "11번가 S카드                       292\n",
       "트래블보너스 Air Plus GS칼텍스 S카드 S    292\n",
       "Name: 카드명, Length: 141, dtype: int64"
      ]
     },
     "execution_count": 50,
     "metadata": {},
     "output_type": "execute_result"
    }
   ],
   "source": [
    "df_card_tel['카드명'].value_counts()"
   ]
  },
  {
   "cell_type": "code",
   "execution_count": 51,
   "metadata": {
    "scrolled": false
   },
   "outputs": [
    {
     "data": {
      "text/html": [
       "<div>\n",
       "<style scoped>\n",
       "    .dataframe tbody tr th:only-of-type {\n",
       "        vertical-align: middle;\n",
       "    }\n",
       "\n",
       "    .dataframe tbody tr th {\n",
       "        vertical-align: top;\n",
       "    }\n",
       "\n",
       "    .dataframe thead th {\n",
       "        text-align: right;\n",
       "    }\n",
       "</style>\n",
       "<table border=\"1\" class=\"dataframe\">\n",
       "  <thead>\n",
       "    <tr style=\"text-align: right;\">\n",
       "      <th></th>\n",
       "      <th>연령</th>\n",
       "      <th>직업군</th>\n",
       "      <th>결혼여부</th>\n",
       "      <th>학력</th>\n",
       "      <th>신용카드소지여부</th>\n",
       "      <th>주택대출여부</th>\n",
       "      <th>개인대출여부</th>\n",
       "      <th>contact</th>\n",
       "      <th>통화시간</th>\n",
       "      <th>연락시도횟수</th>\n",
       "      <th>p_days</th>\n",
       "      <th>과거통화횟수</th>\n",
       "      <th>계약여부</th>\n",
       "      <th>연락일자</th>\n",
       "      <th>카드종류</th>\n",
       "      <th>재연락</th>\n",
       "      <th>통화시간_2</th>\n",
       "      <th>loan</th>\n",
       "    </tr>\n",
       "  </thead>\n",
       "  <tbody>\n",
       "    <tr>\n",
       "      <th>0</th>\n",
       "      <td>56</td>\n",
       "      <td>주부</td>\n",
       "      <td>결혼</td>\n",
       "      <td>중졸</td>\n",
       "      <td>없음</td>\n",
       "      <td>없음</td>\n",
       "      <td>없음</td>\n",
       "      <td>유선전화</td>\n",
       "      <td>261</td>\n",
       "      <td>1</td>\n",
       "      <td>안함</td>\n",
       "      <td>0</td>\n",
       "      <td>no</td>\n",
       "      <td>2018-01-03</td>\n",
       "      <td>87</td>\n",
       "      <td>0</td>\n",
       "      <td>1</td>\n",
       "      <td>0</td>\n",
       "    </tr>\n",
       "    <tr>\n",
       "      <th>1</th>\n",
       "      <td>57</td>\n",
       "      <td>서비스종사자</td>\n",
       "      <td>결혼</td>\n",
       "      <td>전문학교</td>\n",
       "      <td>미확인</td>\n",
       "      <td>없음</td>\n",
       "      <td>없음</td>\n",
       "      <td>유선전화</td>\n",
       "      <td>149</td>\n",
       "      <td>1</td>\n",
       "      <td>안함</td>\n",
       "      <td>0</td>\n",
       "      <td>no</td>\n",
       "      <td>2018-01-03</td>\n",
       "      <td>88</td>\n",
       "      <td>0</td>\n",
       "      <td>0</td>\n",
       "      <td>0</td>\n",
       "    </tr>\n",
       "    <tr>\n",
       "      <th>2</th>\n",
       "      <td>37</td>\n",
       "      <td>서비스종사자</td>\n",
       "      <td>결혼</td>\n",
       "      <td>전문학교</td>\n",
       "      <td>없음</td>\n",
       "      <td>대출있음</td>\n",
       "      <td>없음</td>\n",
       "      <td>유선전화</td>\n",
       "      <td>226</td>\n",
       "      <td>1</td>\n",
       "      <td>안함</td>\n",
       "      <td>0</td>\n",
       "      <td>no</td>\n",
       "      <td>2018-01-03</td>\n",
       "      <td>89</td>\n",
       "      <td>0</td>\n",
       "      <td>0</td>\n",
       "      <td>2</td>\n",
       "    </tr>\n",
       "    <tr>\n",
       "      <th>3</th>\n",
       "      <td>40</td>\n",
       "      <td>회사원</td>\n",
       "      <td>결혼</td>\n",
       "      <td>검정고시</td>\n",
       "      <td>없음</td>\n",
       "      <td>없음</td>\n",
       "      <td>없음</td>\n",
       "      <td>유선전화</td>\n",
       "      <td>151</td>\n",
       "      <td>1</td>\n",
       "      <td>안함</td>\n",
       "      <td>0</td>\n",
       "      <td>no</td>\n",
       "      <td>2018-01-03</td>\n",
       "      <td>90</td>\n",
       "      <td>0</td>\n",
       "      <td>0</td>\n",
       "      <td>0</td>\n",
       "    </tr>\n",
       "    <tr>\n",
       "      <th>4</th>\n",
       "      <td>56</td>\n",
       "      <td>서비스종사자</td>\n",
       "      <td>결혼</td>\n",
       "      <td>전문학교</td>\n",
       "      <td>없음</td>\n",
       "      <td>없음</td>\n",
       "      <td>대출있음</td>\n",
       "      <td>유선전화</td>\n",
       "      <td>307</td>\n",
       "      <td>1</td>\n",
       "      <td>안함</td>\n",
       "      <td>0</td>\n",
       "      <td>no</td>\n",
       "      <td>2018-01-03</td>\n",
       "      <td>91</td>\n",
       "      <td>0</td>\n",
       "      <td>1</td>\n",
       "      <td>2</td>\n",
       "    </tr>\n",
       "  </tbody>\n",
       "</table>\n",
       "</div>"
      ],
      "text/plain": [
       "   연령     직업군 결혼여부    학력 신용카드소지여부 주택대출여부 개인대출여부 contact  통화시간  연락시도횟수 p_days  \\\n",
       "0  56      주부   결혼    중졸       없음     없음     없음    유선전화   261       1     안함   \n",
       "1  57  서비스종사자   결혼  전문학교      미확인     없음     없음    유선전화   149       1     안함   \n",
       "2  37  서비스종사자   결혼  전문학교       없음   대출있음     없음    유선전화   226       1     안함   \n",
       "3  40     회사원   결혼  검정고시       없음     없음     없음    유선전화   151       1     안함   \n",
       "4  56  서비스종사자   결혼  전문학교       없음     없음   대출있음    유선전화   307       1     안함   \n",
       "\n",
       "   과거통화횟수 계약여부        연락일자  카드종류  재연락  통화시간_2  loan  \n",
       "0       0   no  2018-01-03    87    0       1     0  \n",
       "1       0   no  2018-01-03    88    0       0     0  \n",
       "2       0   no  2018-01-03    89    0       0     2  \n",
       "3       0   no  2018-01-03    90    0       0     0  \n",
       "4       0   no  2018-01-03    91    0       1     2  "
      ]
     },
     "execution_count": 51,
     "metadata": {},
     "output_type": "execute_result"
    }
   ],
   "source": [
    "df_tel.head()"
   ]
  },
  {
   "cell_type": "code",
   "execution_count": 52,
   "metadata": {
    "scrolled": false
   },
   "outputs": [
    {
     "data": {
      "text/plain": [
       "<AxesSubplot:xlabel='혜택분야', ylabel='count'>"
      ]
     },
     "execution_count": 52,
     "metadata": {},
     "output_type": "execute_result"
    },
    {
     "data": {
      "image/png": "[encoded data removed]",
      "text/plain": [
       "<Figure size 1080x720 with 1 Axes>"
      ]
     },
     "metadata": {
      "needs_background": "light"
     },
     "output_type": "display_data"
    }
   ],
   "source": [
    "plt.figure(figsize=(15,10))\n",
    "sns.countplot('혜택분야', data=df_card_tel, hue='계약여부')"
   ]
  },
  {
   "cell_type": "code",
   "execution_count": 53,
   "metadata": {
    "scrolled": true
   },
   "outputs": [
    {
     "data": {
      "image/png": "[encoded data removed]",
      "text/plain": [
       "<Figure size 1080x720 with 1 Axes>"
      ]
     },
     "metadata": {
      "needs_background": "light"
     },
     "output_type": "display_data"
    }
   ],
   "source": [
    "n_points = df_card_tel.shape[0]\n",
    "max_count = df_card_tel['혜택분야'].value_counts().max()\n",
    "max_prop = max_count / n_points\n",
    "\n",
    "# generate tick mark locations and names\n",
    "tick_props = np.arange(0, max_prop, 0.05)\n",
    "tick_names = ['{:0.2f}'.format(v) for v in tick_props]\n",
    "\n",
    "plt.figure(figsize=(15,10))\n",
    "# create the plot\n",
    "sns.countplot(data = df_card_tel, x = '혜택분야', hue='계약여부');\n",
    "plt.yticks(tick_props * n_points, tick_names)\n",
    "plt.ylabel('proportion');"
   ]
  },
  {
   "cell_type": "code",
   "execution_count": 54,
   "metadata": {},
   "outputs": [
    {
     "data": {
      "text/plain": [
       "shopping          9928\n",
       "life              6148\n",
       "oil               6132\n",
       "culture           4672\n",
       "onlineShopping    4380\n",
       "travel            2920\n",
       "food              2920\n",
       "comm              2336\n",
       "finance           1752\n",
       "Name: 혜택분야, dtype: int64"
      ]
     },
     "execution_count": 54,
     "metadata": {},
     "output_type": "execute_result"
    }
   ],
   "source": [
    "df_card_tel['혜택분야'].value_counts()"
   ]
  },
  {
   "cell_type": "code",
   "execution_count": 55,
   "metadata": {
    "scrolled": false
   },
   "outputs": [
    {
     "data": {
      "text/plain": [
       "Text(0.5, 1.0, 'finance')"
      ]
     },
     "execution_count": 55,
     "metadata": {},
     "output_type": "execute_result"
    },
    {
     "data": {
      "image/png": "[encoded data removed]",
      "text/plain": [
       "<Figure size 1080x720 with 9 Axes>"
      ]
     },
     "metadata": {},
     "output_type": "display_data"
    }
   ],
   "source": [
    "plt.figure(figsize=(15,10))\n",
    "plt.subplot(3,3,1)\n",
    "df_card_tel[df_card_tel['혜택분야']=='shopping']['계약여부'].value_counts().plot.pie(autopct='%.2f %%')\n",
    "plt.title('shopping')\n",
    "plt.subplot(3,3,2)\n",
    "df_card_tel[df_card_tel['혜택분야']=='life']['계약여부'].value_counts().plot.pie(autopct='%.2f %%')\n",
    "plt.title('life')\n",
    "plt.subplot(3,3,3)\n",
    "df_card_tel[df_card_tel['혜택분야']=='oil']['계약여부'].value_counts().plot.pie(autopct='%.2f %%')\n",
    "plt.title('oil')\n",
    "plt.subplot(3,3,4)\n",
    "df_card_tel[df_card_tel['혜택분야']=='culture']['계약여부'].value_counts().plot.pie(autopct='%.2f %%')\n",
    "plt.title('culture')\n",
    "plt.subplot(3,3,5)\n",
    "df_card_tel[df_card_tel['혜택분야']=='onlineShopping']['계약여부'].value_counts().plot.pie(autopct='%.2f %%')\n",
    "plt.title('onlineShopping')\n",
    "plt.subplot(3,3,6)\n",
    "df_card_tel[df_card_tel['혜택분야']=='travel']['계약여부'].value_counts().plot.pie(autopct='%.2f %%')\n",
    "plt.title('travel')\n",
    "plt.subplot(3,3,7)\n",
    "df_card_tel[df_card_tel['혜택분야']=='food']['계약여부'].value_counts().plot.pie(autopct='%.2f %%')\n",
    "plt.title('food')\n",
    "plt.subplot(3,3,8)\n",
    "df_card_tel[df_card_tel['혜택분야']=='comm']['계약여부'].value_counts().plot.pie(autopct='%.2f %%')\n",
    "plt.title('comm')\n",
    "plt.subplot(3,3,9)\n",
    "df_card_tel[df_card_tel['혜택분야']=='finance']['계약여부'].value_counts().plot.pie(autopct='%.2f %%')\n",
    "plt.title('finance')"
   ]
  },
  {
   "cell_type": "code",
   "execution_count": 56,
   "metadata": {
    "scrolled": false
   },
   "outputs": [
    {
     "data": {
      "text/plain": [
       "<AxesSubplot:xlabel='혜택분야', ylabel='prop'>"
      ]
     },
     "execution_count": 56,
     "metadata": {},
     "output_type": "execute_result"
    },
    {
     "data": {
      "image/png": "[encoded data removed]",
      "text/plain": [
       "<Figure size 720x360 with 1 Axes>"
      ]
     },
     "metadata": {
      "needs_background": "light"
     },
     "output_type": "display_data"
    }
   ],
   "source": [
    "data, x, hue, y = df_card_tel, '혜택분야', '계약여부', 'prop'\n",
    "prop_df = (data[x]\n",
    "           .groupby(data[hue])\n",
    "           .value_counts(normalize=True)\n",
    "           .rename(y)\n",
    "           .reset_index())\n",
    "plt.figure(figsize=(10,5))\n",
    "sns.barplot(x=x, y=y, hue=hue, data=prop_df)"
   ]
  },
  {
   "cell_type": "code",
   "execution_count": 57,
   "metadata": {},
   "outputs": [
    {
     "data": {
      "text/plain": [
       "계약여부  혜택분야          \n",
       "no    shopping          8878\n",
       "      oil               5446\n",
       "      life              5435\n",
       "      culture           4134\n",
       "      onlineShopping    3864\n",
       "      food              2578\n",
       "      travel            2573\n",
       "      comm              2083\n",
       "      finance           1557\n",
       "yes   shopping          1050\n",
       "      life               713\n",
       "      oil                686\n",
       "      culture            538\n",
       "      onlineShopping     516\n",
       "      travel             347\n",
       "      food               342\n",
       "      comm               253\n",
       "      finance            195\n",
       "Name: 혜택분야, dtype: int64"
      ]
     },
     "execution_count": 57,
     "metadata": {},
     "output_type": "execute_result"
    }
   ],
   "source": [
    "df_card_tel['혜택분야'].groupby(df_card_tel['계약여부']).value_counts()"
   ]
  },
  {
   "cell_type": "code",
   "execution_count": 58,
   "metadata": {},
   "outputs": [
    {
     "data": {
      "image/png": "[encoded data removed]",
      "text/plain": [
       "<Figure size 432x288 with 1 Axes>"
      ]
     },
     "metadata": {
      "needs_background": "light"
     },
     "output_type": "display_data"
    }
   ],
   "source": [
    "bins = [0,10,20,30,40,50,60,70,80,90]\n",
    "df_card_tel['age'] = pd.cut(df_card_tel['연령'], bins=bins, labels = ['baby','10대','20대','30대','40대','50대','60대','70대','80대'])\n",
    "def c_plot(data, col):\n",
    "    data = data.sort_values(by=col, ascending=False)\n",
    "    sns.countplot(col, data=data)\n",
    "c_plot(df_card_tel, 'age')"
   ]
  },
  {
   "cell_type": "code",
   "execution_count": 59,
   "metadata": {},
   "outputs": [
    {
     "data": {
      "text/plain": [
       "Text(0.5, 1.0, '80대')"
      ]
     },
     "execution_count": 59,
     "metadata": {},
     "output_type": "execute_result"
    },
    {
     "data": {
      "image/png": "[encoded data removed]",
      "text/plain": [
       "<Figure size 1080x720 with 7 Axes>"
      ]
     },
     "metadata": {},
     "output_type": "display_data"
    }
   ],
   "source": [
    "plt.figure(figsize=(15,10))\n",
    "plt.subplot(3,3,1)\n",
    "df_card_tel[df_card_tel['age']=='20대']['계약여부'].value_counts().plot.pie(autopct='%.2f %%')\n",
    "plt.title('20대')\n",
    "plt.subplot(3,3,2)\n",
    "df_card_tel[df_card_tel['age']=='30대']['계약여부'].value_counts().plot.pie(autopct='%.2f %%')\n",
    "plt.title('30대')\n",
    "plt.subplot(3,3,3)\n",
    "df_card_tel[df_card_tel['age']=='40대']['계약여부'].value_counts().plot.pie(autopct='%.2f %%')\n",
    "plt.title('40대')\n",
    "plt.subplot(3,3,4)\n",
    "df_card_tel[df_card_tel['age']=='50대']['계약여부'].value_counts().plot.pie(autopct='%.2f %%')\n",
    "plt.title('50대')\n",
    "plt.subplot(3,3,5)\n",
    "df_card_tel[df_card_tel['age']=='60대']['계약여부'].value_counts().plot.pie(autopct='%.2f %%')\n",
    "plt.title('60대')\n",
    "plt.subplot(3,3,6)\n",
    "df_card_tel[df_card_tel['age']=='70대']['계약여부'].value_counts().plot.pie(autopct='%.2f %%')\n",
    "plt.title('70대')\n",
    "plt.subplot(3,3,7)\n",
    "df_card_tel[df_card_tel['age']=='80대']['계약여부'].value_counts().plot.pie(autopct='%.2f %%')\n",
    "plt.title('80대')"
   ]
  },
  {
   "cell_type": "code",
   "execution_count": 60,
   "metadata": {},
   "outputs": [
    {
     "data": {
      "text/plain": [
       "shopping          9928\n",
       "life              6148\n",
       "oil               6132\n",
       "culture           4672\n",
       "onlineShopping    4380\n",
       "travel            2920\n",
       "food              2920\n",
       "comm              2336\n",
       "finance           1752\n",
       "Name: 혜택분야, dtype: int64"
      ]
     },
     "execution_count": 60,
     "metadata": {},
     "output_type": "execute_result"
    }
   ],
   "source": [
    "df_card_tel['혜택분야'].value_counts()"
   ]
  },
  {
   "cell_type": "code",
   "execution_count": 61,
   "metadata": {
    "scrolled": false
   },
   "outputs": [
    {
     "data": {
      "text/plain": [
       "Text(0.5, 1.0, '20대 finance')"
      ]
     },
     "execution_count": 61,
     "metadata": {},
     "output_type": "execute_result"
    },
    {
     "data": {
      "image/png": "[encoded data removed]",
      "text/plain": [
       "<Figure size 1080x720 with 10 Axes>"
      ]
     },
     "metadata": {},
     "output_type": "display_data"
    }
   ],
   "source": [
    "labels = ['Apple','Banana','Grape','Pear','Peach'] \n",
    "colors = sns.color_palette('hls',len(labels))\n",
    "plt.figure(figsize=(15,10))\n",
    "plt.subplot(4,3,1)\n",
    "df_card_tel[df_card_tel['age']=='20대']['계약여부'].value_counts().plot.pie(autopct='%.2f %%', colors=colors)\n",
    "plt.title('20대')\n",
    "plt.subplot(4,3,2)\n",
    "df_card_tel[(df_card_tel['혜택분야']=='shopping') & (df_card_tel['age'] == '20대')]['계약여부'].value_counts().plot.pie(autopct='%.2f %%', colors=colors)\n",
    "plt.title('20대 shopping')\n",
    "plt.subplot(4,3,3)\n",
    "df_card_tel[(df_card_tel['혜택분야']=='life') & (df_card_tel['age'] == '20대')]['계약여부'].value_counts().plot.pie(autopct='%.2f %%', colors=colors)\n",
    "plt.title('20대 life')\n",
    "plt.subplot(4,3,4)\n",
    "df_card_tel[(df_card_tel['혜택분야']=='oil') & (df_card_tel['age'] == '20대')]['계약여부'].value_counts().plot.pie(autopct='%.2f %%', colors=colors)\n",
    "plt.title('20대 oil')\n",
    "plt.subplot(4,3,5)\n",
    "df_card_tel[(df_card_tel['혜택분야']=='culture') & (df_card_tel['age'] == '20대')]['계약여부'].value_counts().plot.pie(autopct='%.2f %%', colors=colors)\n",
    "plt.title('20대 culture')\n",
    "plt.subplot(4,3,6)\n",
    "df_card_tel[(df_card_tel['혜택분야']=='onlineShopping') & (df_card_tel['age'] == '20대')]['계약여부'].value_counts().plot.pie(autopct='%.2f %%', colors=colors)\n",
    "plt.title('20대 onlineShopping')\n",
    "plt.subplot(4,3,7)\n",
    "df_card_tel[(df_card_tel['혜택분야']=='travel') & (df_card_tel['age'] == '20대')]['계약여부'].value_counts().plot.pie(autopct='%.2f %%', colors=colors)\n",
    "plt.title('20대 travel')\n",
    "plt.subplot(4,3,8)\n",
    "df_card_tel[(df_card_tel['혜택분야']=='food') & (df_card_tel['age'] == '20대')]['계약여부'].value_counts().plot.pie(autopct='%.2f %%', colors=colors)\n",
    "plt.title('20대 food')\n",
    "plt.subplot(4,3,9)\n",
    "df_card_tel[(df_card_tel['혜택분야']=='comm') & (df_card_tel['age'] == '20대')]['계약여부'].value_counts().plot.pie(autopct='%.2f %%', colors=colors)\n",
    "plt.title('20대 comm')\n",
    "plt.subplot(4,3,10)\n",
    "df_card_tel[(df_card_tel['혜택분야']=='finance') & (df_card_tel['age'] == '20대')]['계약여부'].value_counts().plot.pie(autopct='%.2f %%', colors=colors)\n",
    "plt.title('20대 finance')"
   ]
  },
  {
   "cell_type": "code",
   "execution_count": 62,
   "metadata": {},
   "outputs": [
    {
     "data": {
      "text/plain": [
       "Text(0.5, 1.0, '30대 finance')"
      ]
     },
     "execution_count": 62,
     "metadata": {},
     "output_type": "execute_result"
    },
    {
     "data": {
      "image/png": "[encoded data removed]",
      "text/plain": [
       "<Figure size 1080x720 with 10 Axes>"
      ]
     },
     "metadata": {},
     "output_type": "display_data"
    }
   ],
   "source": [
    "labels = ['Grape','Pear','Peach']\n",
    "colors = sns.color_palette('hls',len(labels))\n",
    "plt.figure(figsize=(15,10))\n",
    "plt.subplot(4,3,1)\n",
    "df_card_tel[df_card_tel['age']=='30대']['계약여부'].value_counts().plot.pie(autopct='%.2f %%', colors=colors)\n",
    "plt.title('30대')\n",
    "plt.subplot(4,3,2)\n",
    "df_card_tel[(df_card_tel['혜택분야']=='shopping') & (df_card_tel['age'] == '30대')]['계약여부'].value_counts().plot.pie(autopct='%.2f %%', colors=colors)\n",
    "plt.title('30대 shopping')\n",
    "plt.subplot(4,3,3)\n",
    "df_card_tel[(df_card_tel['혜택분야']=='life') & (df_card_tel['age'] == '30대')]['계약여부'].value_counts().plot.pie(autopct='%.2f %%', colors=colors)\n",
    "plt.title('30대 life')\n",
    "plt.subplot(4,3,4)\n",
    "df_card_tel[(df_card_tel['혜택분야']=='oil') & (df_card_tel['age'] == '30대')]['계약여부'].value_counts().plot.pie(autopct='%.2f %%', colors=colors)\n",
    "plt.title('30대 oil')\n",
    "plt.subplot(4,3,5)\n",
    "df_card_tel[(df_card_tel['혜택분야']=='culture') & (df_card_tel['age'] == '30대')]['계약여부'].value_counts().plot.pie(autopct='%.2f %%', colors=colors)\n",
    "plt.title('30대 culture')\n",
    "plt.subplot(4,3,6)\n",
    "df_card_tel[(df_card_tel['혜택분야']=='onlineShopping') & (df_card_tel['age'] == '30대')]['계약여부'].value_counts().plot.pie(autopct='%.2f %%', colors=colors)\n",
    "plt.title('30대 onlineShopping')\n",
    "plt.subplot(4,3,7)\n",
    "df_card_tel[(df_card_tel['혜택분야']=='travel') & (df_card_tel['age'] == '30대')]['계약여부'].value_counts().plot.pie(autopct='%.2f %%', colors=colors)\n",
    "plt.title('30대 travel')\n",
    "plt.subplot(4,3,8)\n",
    "df_card_tel[(df_card_tel['혜택분야']=='food') & (df_card_tel['age'] == '30대')]['계약여부'].value_counts().plot.pie(autopct='%.2f %%', colors=colors)\n",
    "plt.title('30대 food')\n",
    "plt.subplot(4,3,9)\n",
    "df_card_tel[(df_card_tel['혜택분야']=='comm') & (df_card_tel['age'] == '30대')]['계약여부'].value_counts().plot.pie(autopct='%.2f %%', colors=colors)\n",
    "plt.title('30대 comm')\n",
    "plt.subplot(4,3,10)\n",
    "df_card_tel[(df_card_tel['혜택분야']=='finance') & (df_card_tel['age'] == '30대')]['계약여부'].value_counts().plot.pie(autopct='%.2f %%', colors=colors)\n",
    "plt.title('30대 finance')"
   ]
  },
  {
   "cell_type": "code",
   "execution_count": 63,
   "metadata": {
    "scrolled": false
   },
   "outputs": [
    {
     "data": {
      "text/plain": [
       "Text(0.5, 1.0, '40대 finance')"
      ]
     },
     "execution_count": 63,
     "metadata": {},
     "output_type": "execute_result"
    },
    {
     "data": {
      "image/png": "[encoded data removed]",
      "text/plain": [
       "<Figure size 1080x720 with 10 Axes>"
      ]
     },
     "metadata": {},
     "output_type": "display_data"
    }
   ],
   "source": [
    "labels = ['Grape','Peach']\n",
    "colors = sns.color_palette('hls',len(labels))\n",
    "plt.figure(figsize=(15,10))\n",
    "plt.subplot(4,3,1)\n",
    "df_card_tel[df_card_tel['age']=='40대']['계약여부'].value_counts().plot.pie(autopct='%.2f %%', colors=colors)\n",
    "plt.title('40대')\n",
    "plt.subplot(4,3,2)\n",
    "df_card_tel[(df_card_tel['혜택분야']=='shopping') & (df_card_tel['age'] == '40대')]['계약여부'].value_counts().plot.pie(autopct='%.2f %%', colors=colors)\n",
    "plt.title('40대 shopping')\n",
    "plt.subplot(4,3,3)\n",
    "df_card_tel[(df_card_tel['혜택분야']=='life') & (df_card_tel['age'] == '40대')]['계약여부'].value_counts().plot.pie(autopct='%.2f %%', colors=colors)\n",
    "plt.title('40대 life')\n",
    "plt.subplot(4,3,4)\n",
    "df_card_tel[(df_card_tel['혜택분야']=='oil') & (df_card_tel['age'] == '40대')]['계약여부'].value_counts().plot.pie(autopct='%.2f %%', colors=colors)\n",
    "plt.title('40대 oil')\n",
    "plt.subplot(4,3,5)\n",
    "df_card_tel[(df_card_tel['혜택분야']=='culture') & (df_card_tel['age'] == '40대')]['계약여부'].value_counts().plot.pie(autopct='%.2f %%', colors=colors)\n",
    "plt.title('40대 culture')\n",
    "plt.subplot(4,3,6)\n",
    "df_card_tel[(df_card_tel['혜택분야']=='onlineShopping') & (df_card_tel['age'] == '40대')]['계약여부'].value_counts().plot.pie(autopct='%.2f %%', colors=colors)\n",
    "plt.title('40대 onlineShopping')\n",
    "plt.subplot(4,3,7)\n",
    "df_card_tel[(df_card_tel['혜택분야']=='travel') & (df_card_tel['age'] == '40대')]['계약여부'].value_counts().plot.pie(autopct='%.2f %%', colors=colors)\n",
    "plt.title('40대 travel')\n",
    "plt.subplot(4,3,8)\n",
    "df_card_tel[(df_card_tel['혜택분야']=='food') & (df_card_tel['age'] == '40대')]['계약여부'].value_counts().plot.pie(autopct='%.2f %%', colors=colors)\n",
    "plt.title('40대 food')\n",
    "plt.subplot(4,3,9)\n",
    "df_card_tel[(df_card_tel['혜택분야']=='comm') & (df_card_tel['age'] == '40대')]['계약여부'].value_counts().plot.pie(autopct='%.2f %%', colors=colors)\n",
    "plt.title('40대 comm')\n",
    "plt.subplot(4,3,10)\n",
    "df_card_tel[(df_card_tel['혜택분야']=='finance') & (df_card_tel['age'] == '40대')]['계약여부'].value_counts().plot.pie(autopct='%.2f %%', colors=colors)\n",
    "plt.title('40대 finance')"
   ]
  },
  {
   "cell_type": "code",
   "execution_count": 64,
   "metadata": {
    "scrolled": true
   },
   "outputs": [
    {
     "data": {
      "text/plain": [
       "<AxesSubplot:ylabel='계약여부'>"
      ]
     },
     "execution_count": 64,
     "metadata": {},
     "output_type": "execute_result"
    },
    {
     "data": {
      "image/png": "[encoded data removed]",
      "text/plain": [
       "<Figure size 1080x720 with 7 Axes>"
      ]
     },
     "metadata": {},
     "output_type": "display_data"
    }
   ],
   "source": [
    "labels = ['Apple','Pear','Peach'] \n",
    "colors = sns.color_palette('hls',len(labels))\n",
    "plt.figure(figsize=(15,10))\n",
    "plt.subplot(4,3,1)\n",
    "df_card_tel[df_card_tel['age']=='50대']['계약여부'].value_counts().plot.pie(autopct='%.2f %%', colors=colors)\n",
    "plt.title('50대')\n",
    "plt.subplot(4,3,2)\n",
    "df_card_tel[(df_card_tel['혜택분야']=='shopping') & (df_card_tel['age'] == '50대')]['계약여부'].value_counts().plot.pie(autopct='%.2f %%', colors=colors)\n",
    "plt.title('50대 shopping')\n",
    "plt.subplot(4,3,3)\n",
    "df_card_tel[(df_card_tel['혜택분야']=='life') & (df_card_tel['age'] == '50대')]['계약여부'].value_counts().plot.pie(autopct='%.2f %%', colors=colors)\n",
    "plt.title('50대 life')\n",
    "plt.subplot(4,3,4)\n",
    "df_card_tel[(df_card_tel['혜택분야']=='oil') & (df_card_tel['age'] == '50대')]['계약여부'].value_counts().plot.pie(autopct='%.2f %%', colors=colors)\n",
    "plt.title('50대 oil')\n",
    "plt.subplot(4,3,5)\n",
    "df_card_tel[(df_card_tel['혜택분야']=='culture') & (df_card_tel['age'] == '50대')]['계약여부'].value_counts().plot.pie(autopct='%.2f %%', colors=colors)\n",
    "plt.title('50대 culture')\n",
    "plt.subplot(4,3,6)\n",
    "df_card_tel[(df_card_tel['혜택분야']=='onlineShopping') & (df_card_tel['age'] == '50대')]['계약여부'].value_counts().plot.pie(autopct='%.2f %%', colors=colors)\n",
    "plt.title('50대 onlineShopping')\n",
    "plt.subplot(4,3,7)\n",
    "df_card_tel[(df_card_tel['혜택분야']=='travel') & (df_card_tel['age'] == '50대')]['계약여부'].value_counts().plot.pie(autopct='%.2f %%', colors=colors)"
   ]
  },
  {
   "cell_type": "code",
   "execution_count": 65,
   "metadata": {},
   "outputs": [
    {
     "data": {
      "text/plain": [
       "Text(0.5, 1.0, '60대 finance')"
      ]
     },
     "execution_count": 65,
     "metadata": {},
     "output_type": "execute_result"
    },
    {
     "data": {
      "image/png": "[encoded data removed]",
      "text/plain": [
       "<Figure size 1080x720 with 10 Axes>"
      ]
     },
     "metadata": {},
     "output_type": "display_data"
    }
   ],
   "source": [
    "plt.figure(figsize=(15,10))\n",
    "plt.subplot(4,3,1)\n",
    "df_card_tel[df_card_tel['age']=='60대']['계약여부'].value_counts().plot.pie(autopct='%.2f %%', colors=colors)\n",
    "plt.title('60대')\n",
    "plt.subplot(4,3,2)\n",
    "df_card_tel[(df_card_tel['혜택분야']=='shopping') & (df_card_tel['age'] == '60대')]['계약여부'].value_counts().plot.pie(autopct='%.2f %%', colors=colors)\n",
    "plt.title('60대 shopping')\n",
    "plt.subplot(4,3,3)\n",
    "df_card_tel[(df_card_tel['혜택분야']=='life') & (df_card_tel['age'] == '60대')]['계약여부'].value_counts().plot.pie(autopct='%.2f %%', colors=colors)\n",
    "plt.title('60대 life')\n",
    "plt.subplot(4,3,4)\n",
    "df_card_tel[(df_card_tel['혜택분야']=='oil') & (df_card_tel['age'] == '60대')]['계약여부'].value_counts().plot.pie(autopct='%.2f %%', colors=colors)\n",
    "plt.title('60대 oil')\n",
    "plt.subplot(4,3,5)\n",
    "df_card_tel[(df_card_tel['혜택분야']=='culture') & (df_card_tel['age'] == '60대')]['계약여부'].value_counts().plot.pie(autopct='%.2f %%', colors=colors)\n",
    "plt.title('60대 culture')\n",
    "plt.subplot(4,3,6)\n",
    "df_card_tel[(df_card_tel['혜택분야']=='onlineShopping') & (df_card_tel['age'] == '60대')]['계약여부'].value_counts().plot.pie(autopct='%.2f %%', colors=colors)\n",
    "plt.title('60대 onlineShopping')\n",
    "plt.subplot(4,3,7)\n",
    "df_card_tel[(df_card_tel['혜택분야']=='travel') & (df_card_tel['age'] == '60대')]['계약여부'].value_counts().plot.pie(autopct='%.2f %%', colors=colors)\n",
    "plt.title('60대 travel')\n",
    "plt.subplot(4,3,8)\n",
    "df_card_tel[(df_card_tel['혜택분야']=='food') & (df_card_tel['age'] == '60대')]['계약여부'].value_counts().plot.pie(autopct='%.2f %%', colors=colors)\n",
    "plt.title('60대 food')\n",
    "plt.subplot(4,3,9)\n",
    "df_card_tel[(df_card_tel['혜택분야']=='comm') & (df_card_tel['age'] == '60대')]['계약여부'].value_counts().plot.pie(autopct='%.2f %%', colors=colors)\n",
    "plt.title('60대 comm')\n",
    "plt.subplot(4,3,10)\n",
    "df_card_tel[(df_card_tel['혜택분야']=='finance') & (df_card_tel['age'] == '60대')]['계약여부'].value_counts().plot.pie(autopct='%.2f %%', colors=colors)\n",
    "plt.title('60대 finance')"
   ]
  },
  {
   "cell_type": "code",
   "execution_count": 66,
   "metadata": {},
   "outputs": [
    {
     "data": {
      "text/plain": [
       "Text(0.5, 1.0, '70대 finance')"
      ]
     },
     "execution_count": 66,
     "metadata": {},
     "output_type": "execute_result"
    },
    {
     "data": {
      "image/png": "[encoded data removed]",
      "text/plain": [
       "<Figure size 1080x720 with 10 Axes>"
      ]
     },
     "metadata": {},
     "output_type": "display_data"
    }
   ],
   "source": [
    "plt.figure(figsize=(15,10))\n",
    "plt.subplot(4,3,1)\n",
    "df_card_tel[df_card_tel['age']=='70대']['계약여부'].value_counts().plot.pie(autopct='%.2f %%', colors=colors)\n",
    "plt.title('70대')\n",
    "plt.subplot(4,3,2)\n",
    "df_card_tel[(df_card_tel['혜택분야']=='shopping') & (df_card_tel['age'] == '70대')]['계약여부'].value_counts().plot.pie(autopct='%.2f %%', colors=colors)\n",
    "plt.title('70대 shopping')\n",
    "plt.subplot(4,3,3)\n",
    "df_card_tel[(df_card_tel['혜택분야']=='life') & (df_card_tel['age'] == '70대')]['계약여부'].value_counts().plot.pie(autopct='%.2f %%', colors=colors)\n",
    "plt.title('70대 life')\n",
    "plt.subplot(4,3,4)\n",
    "df_card_tel[(df_card_tel['혜택분야']=='oil') & (df_card_tel['age'] == '70대')]['계약여부'].value_counts().plot.pie(autopct='%.2f %%', colors=colors)\n",
    "plt.title('70대 oil')\n",
    "plt.subplot(4,3,5)\n",
    "df_card_tel[(df_card_tel['혜택분야']=='culture') & (df_card_tel['age'] == '70대')]['계약여부'].value_counts().plot.pie(autopct='%.2f %%', colors=colors)\n",
    "plt.title('70대 culture')\n",
    "plt.subplot(4,3,6)\n",
    "df_card_tel[(df_card_tel['혜택분야']=='onlineShopping') & (df_card_tel['age'] == '70대')]['계약여부'].value_counts().plot.pie(autopct='%.2f %%', colors=colors)\n",
    "plt.title('70대 onlineShopping')\n",
    "plt.subplot(4,3,7)\n",
    "df_card_tel[(df_card_tel['혜택분야']=='travel') & (df_card_tel['age'] == '70대')]['계약여부'].value_counts().plot.pie(autopct='%.2f %%', colors=colors)\n",
    "plt.title('70대 travel')\n",
    "plt.subplot(4,3,8)\n",
    "df_card_tel[(df_card_tel['혜택분야']=='food') & (df_card_tel['age'] == '70대')]['계약여부'].value_counts().plot.pie(autopct='%.2f %%', colors=colors)\n",
    "plt.title('70대 food')\n",
    "plt.subplot(4,3,9)\n",
    "df_card_tel[(df_card_tel['혜택분야']=='comm') & (df_card_tel['age'] == '70대')]['계약여부'].value_counts().plot.pie(autopct='%.2f %%', colors=colors)\n",
    "plt.title('70대 comm')\n",
    "plt.subplot(4,3,10)\n",
    "df_card_tel[(df_card_tel['혜택분야']=='finance') & (df_card_tel['age'] == '70대')]['계약여부'].value_counts().plot.pie(autopct='%.2f %%', colors=colors)\n",
    "plt.title('70대 finance')"
   ]
  },
  {
   "cell_type": "code",
   "execution_count": 67,
   "metadata": {
    "scrolled": true
   },
   "outputs": [
    {
     "data": {
      "text/plain": [
       "Index(['연령', '직업군', '결혼여부', '학력', '신용카드소지여부', '주택대출여부', '개인대출여부', 'contact',\n",
       "       '통화시간', '연락시도횟수', 'p_days', '과거통화횟수', '계약여부', '연락일자', '카드종류', '재연락',\n",
       "       '통화시간_2', 'loan', '분류', '혜택분야', '소개', '연회비', '옵션', '카드명', '가족카드여부',\n",
       "       'age'],\n",
       "      dtype='object')"
      ]
     },
     "execution_count": 67,
     "metadata": {},
     "output_type": "execute_result"
    }
   ],
   "source": [
    "df_card_tel.columns"
   ]
  },
  {
   "cell_type": "code",
   "execution_count": 68,
   "metadata": {},
   "outputs": [
    {
     "data": {
      "image/png": "[encoded data removed]",
      "text/plain": [
       "<Figure size 432x288 with 2 Axes>"
      ]
     },
     "metadata": {},
     "output_type": "display_data"
    }
   ],
   "source": [
    "df_num = df_card_tel[['통화시간', '연락시도횟수', '계약여부']]\n",
    "df_num['계약여부'] = np.where(df_num['계약여부'] == 'no',0,1)\n",
    "cols = df_num.columns.tolist()\n",
    "corr = df_num.corr(method = 'pearson') \n",
    "\n",
    "# 산점도 그래프 출력\n",
    "sns.set(font_scale = 1.5, font='Malgun Gothic')\n",
    "hm = sns.heatmap(corr.values, cbar = True, annot = True, square = True, fmt = '.2f', annot_kws ={'size' : 15}, \n",
    "                 yticklabels = cols, xticklabels = cols )"
   ]
  },
  {
   "cell_type": "code",
   "execution_count": 69,
   "metadata": {},
   "outputs": [],
   "source": [
    "# 데이터 구성 패키지:Series, DataFrame\n",
    "import pandas as pd\n",
    "\n",
    "# 행렬 연산 패키지\n",
    "import numpy as np\n",
    "\n",
    "# train, test 데이터 분할 함수\n",
    "from sklearn.model_selection import train_test_split\n",
    "\n",
    "# scaling\n",
    "from sklearn.preprocessing import StandardScaler\n",
    "\n",
    "# 로지스틱 분석 패키지\n",
    "from statsmodels.api import Logit\n",
    "\n",
    "# 평가 함수\n",
    "from sklearn.metrics import accuracy_score\n",
    "\n",
    "# confusion matrix\n",
    "from sklearn.metrics import confusion_matrix"
   ]
  },
  {
   "cell_type": "code",
   "execution_count": 70,
   "metadata": {},
   "outputs": [
    {
     "data": {
      "text/plain": [
       "Index(['연령', '직업군', '결혼여부', '학력', '신용카드소지여부', '주택대출여부', '개인대출여부', 'contact',\n",
       "       '통화시간', '연락시도횟수', 'p_days', '과거통화횟수', '계약여부', '연락일자', '카드종류', '재연락',\n",
       "       '통화시간_2', 'loan', '분류', '혜택분야', '소개', '연회비', '옵션', '카드명', '가족카드여부',\n",
       "       'age'],\n",
       "      dtype='object')"
      ]
     },
     "execution_count": 70,
     "metadata": {},
     "output_type": "execute_result"
    }
   ],
   "source": [
    "df_card_tel.columns"
   ]
  },
  {
   "cell_type": "code",
   "execution_count": 71,
   "metadata": {},
   "outputs": [],
   "source": [
    "df_num = df_card_tel.select_dtypes(exclude=['object', 'category'])\n",
    "df_obj = df_card_tel.select_dtypes(['object', 'category'])"
   ]
  },
  {
   "cell_type": "code",
   "execution_count": 72,
   "metadata": {},
   "outputs": [],
   "source": [
    "for i in df_num.columns:\n",
    "    df_num[i] = pd.to_numeric(df_num[i])"
   ]
  },
  {
   "cell_type": "code",
   "execution_count": 73,
   "metadata": {},
   "outputs": [],
   "source": [
    "df_card_tel = pd.concat([df_num, df_obj], axis=1)"
   ]
  },
  {
   "cell_type": "code",
   "execution_count": 74,
   "metadata": {},
   "outputs": [
    {
     "name": "stdout",
     "output_type": "stream",
     "text": [
      "<class 'pandas.core.frame.DataFrame'>\n",
      "Int64Index: 41188 entries, 0 to 41187\n",
      "Data columns (total 26 columns):\n",
      " #   Column    Non-Null Count  Dtype   \n",
      "---  ------    --------------  -----   \n",
      " 0   연령        41188 non-null  int64   \n",
      " 1   통화시간      41188 non-null  int64   \n",
      " 2   연락시도횟수    41188 non-null  int64   \n",
      " 3   과거통화횟수    41188 non-null  int64   \n",
      " 4   카드종류      41188 non-null  int64   \n",
      " 5   재연락       41188 non-null  int32   \n",
      " 6   통화시간_2    41188 non-null  int32   \n",
      " 7   loan      41188 non-null  int64   \n",
      " 8   가족카드여부    41188 non-null  int64   \n",
      " 9   직업군       41188 non-null  object  \n",
      " 10  결혼여부      41188 non-null  object  \n",
      " 11  학력        41188 non-null  object  \n",
      " 12  신용카드소지여부  41188 non-null  object  \n",
      " 13  주택대출여부    41188 non-null  object  \n",
      " 14  개인대출여부    41188 non-null  object  \n",
      " 15  contact   41188 non-null  object  \n",
      " 16  p_days    41188 non-null  object  \n",
      " 17  계약여부      41188 non-null  object  \n",
      " 18  연락일자      41188 non-null  object  \n",
      " 19  분류        41188 non-null  object  \n",
      " 20  혜택분야      41188 non-null  object  \n",
      " 21  소개        41188 non-null  object  \n",
      " 22  연회비       41188 non-null  object  \n",
      " 23  옵션        41188 non-null  object  \n",
      " 24  카드명       41188 non-null  object  \n",
      " 25  age       41178 non-null  category\n",
      "dtypes: category(1), int32(2), int64(7), object(16)\n",
      "memory usage: 9.1+ MB\n"
     ]
    }
   ],
   "source": [
    "df_card_tel.info()"
   ]
  },
  {
   "cell_type": "code",
   "execution_count": 75,
   "metadata": {},
   "outputs": [
    {
     "name": "stdout",
     "output_type": "stream",
     "text": [
      "train data shape:  (28831, 26)\n",
      "test data shape:  (12357, 26)\n"
     ]
    }
   ],
   "source": [
    "df_train, df_test = train_test_split(df_card_tel, test_size = 0.3, random_state = 1234)\n",
    "\n",
    "print(\"train data shape: \", df_train.shape)\n",
    "print(\"test data shape: \", df_test.shape)"
   ]
  },
  {
   "cell_type": "code",
   "execution_count": 76,
   "metadata": {},
   "outputs": [],
   "source": [
    "df_card_tel.drop(columns = [\"연령\",\"p_days\",\"연락일자\",\"통화시간_2\",\"분류\",\"소개\",\"연회비\",\"옵션\",\"카드명\",\"카드종류\"], axis = 1, inplace = True)"
   ]
  },
  {
   "cell_type": "code",
   "execution_count": null,
   "metadata": {},
   "outputs": [],
   "source": [
    "df_card_tel[\"계약여부\"] = np.where(df_card_tel[\"계약여부\"] == \"no\", 0, 1)"
   ]
  },
  {
   "cell_type": "code",
   "execution_count": null,
   "metadata": {
    "scrolled": false
   },
   "outputs": [],
   "source": [
    "# from_formula 함수를 이용하여 변수 역할 지정\n",
    "log_model = Logit.from_formula(\"\"\"계약여부 ~ C(age) + C(혜택분야) + 가족카드여부 + loan + 재연락 + 과거통화횟수 +연락시도횟수 + 통화시간 + C(contact) + C(주택대출여부) + C(개인대출여부) +C(신용카드소지여부) + C(학력) + C(결혼여부) + C(직업군)\"\"\", df_train)\n",
    "\n",
    "# 적합\n",
    "log_result = log_model.fit()\n",
    "\n",
    "# 결과 출력\n",
    "print(log_result.summary())"
   ]
  },
  {
   "cell_type": "code",
   "execution_count": 1,
   "metadata": {
    "scrolled": true
   },
   "outputs": [
    {
     "ename": "NameError",
     "evalue": "name 'pd' is not defined",
     "output_type": "error",
     "traceback": [
      "\u001b[1;31m---------------------------------------------------------------------------\u001b[0m",
      "\u001b[1;31mNameError\u001b[0m                                 Traceback (most recent call last)",
      "\u001b[1;32m<ipython-input-1-ad9642a4e0c8>\u001b[0m in \u001b[0;36m<module>\u001b[1;34m\u001b[0m\n\u001b[1;32m----> 1\u001b[1;33m \u001b[0mdf_logistic_coef\u001b[0m \u001b[1;33m=\u001b[0m \u001b[0mpd\u001b[0m\u001b[1;33m.\u001b[0m\u001b[0mDataFrame\u001b[0m\u001b[1;33m(\u001b[0m\u001b[1;33m{\u001b[0m\u001b[1;34m'Coef'\u001b[0m \u001b[1;33m:\u001b[0m \u001b[0mlog_result\u001b[0m\u001b[1;33m.\u001b[0m\u001b[0mparams\u001b[0m\u001b[1;33m.\u001b[0m\u001b[0mvalues\u001b[0m\u001b[1;33m[\u001b[0m\u001b[1;36m1\u001b[0m\u001b[1;33m:\u001b[0m\u001b[1;33m]\u001b[0m\u001b[1;33m}\u001b[0m\u001b[1;33m,\u001b[0m \u001b[0mindex\u001b[0m \u001b[1;33m=\u001b[0m \u001b[0mlog_model\u001b[0m\u001b[1;33m.\u001b[0m\u001b[0mexog_names\u001b[0m\u001b[1;33m[\u001b[0m\u001b[1;36m1\u001b[0m\u001b[1;33m:\u001b[0m\u001b[1;33m]\u001b[0m\u001b[1;33m)\u001b[0m\u001b[1;33m\u001b[0m\u001b[1;33m\u001b[0m\u001b[0m\n\u001b[0m\u001b[0;32m      2\u001b[0m \u001b[0mdf_logistic_coef\u001b[0m\u001b[1;33m.\u001b[0m\u001b[0mplot\u001b[0m\u001b[1;33m.\u001b[0m\u001b[0mbarh\u001b[0m\u001b[1;33m(\u001b[0m\u001b[0my\u001b[0m\u001b[1;33m=\u001b[0m\u001b[1;34m'Coef'\u001b[0m\u001b[1;33m,\u001b[0m \u001b[0mfigsize\u001b[0m\u001b[1;33m=\u001b[0m\u001b[1;33m(\u001b[0m\u001b[1;36m30\u001b[0m\u001b[1;33m,\u001b[0m\u001b[1;36m30\u001b[0m\u001b[1;33m)\u001b[0m\u001b[1;33m)\u001b[0m\u001b[1;33m\u001b[0m\u001b[1;33m\u001b[0m\u001b[0m\n\u001b[0;32m      3\u001b[0m \u001b[0mplt\u001b[0m\u001b[1;33m.\u001b[0m\u001b[0mxlabel\u001b[0m\u001b[1;33m(\u001b[0m\u001b[1;34m'변수 중요도'\u001b[0m\u001b[1;33m)\u001b[0m\u001b[1;33m\u001b[0m\u001b[1;33m\u001b[0m\u001b[0m\n",
      "\u001b[1;31mNameError\u001b[0m: name 'pd' is not defined"
     ]
    }
   ],
   "source": [
    "df_logistic_coef = pd.DataFrame({'Coef' : log_result.params.values[1:]}, index = log_model.exog_names[1:])\n",
    "df_logistic_coef.plot.barh(y='Coef', figsize=(30,30))\n",
    "plt.xlabel('변수 중요도')"
   ]
  }
 ],
 "metadata": {
  "kernelspec": {
   "display_name": "Python 3",
   "language": "python",
   "name": "python3"
  },
  "language_info": {
   "codemirror_mode": {
    "name": "ipython",
    "version": 3
   },
   "file_extension": ".py",
   "mimetype": "text/x-python",
   "name": "python",
   "nbconvert_exporter": "python",
   "pygments_lexer": "ipython3",
   "version": "3.8.5"
  }
 },
 "nbformat": 4,
 "nbformat_minor": 4
}
